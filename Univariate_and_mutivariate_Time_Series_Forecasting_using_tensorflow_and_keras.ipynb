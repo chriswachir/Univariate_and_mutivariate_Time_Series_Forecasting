{
 "cells": [
  {
   "cell_type": "code",
   "execution_count": 1,
   "metadata": {
    "id": "EbrFD1vMR_qS"
   },
   "outputs": [],
   "source": [
    "# Import libraries\n",
    "import pandas as pd\n",
    "import numpy as np\n",
    "import matplotlib.pyplot as plt\n",
    "import warnings\n",
    "warnings.filterwarnings(\"ignore\")"
   ]
  },
  {
   "cell_type": "code",
   "execution_count": null,
   "metadata": {
    "id": "l_UFYH5daFTf"
   },
   "outputs": [],
   "source": []
  },
  {
   "cell_type": "code",
   "execution_count": 2,
   "metadata": {
    "colab": {
     "base_uri": "https://localhost:8080/",
     "height": 644
    },
    "id": "RRVN-4QOSKAx",
    "outputId": "0fae4e16-1266-4d53-81fe-2ef0c08efb66"
   },
   "outputs": [
    {
     "data": {
      "text/html": [
       "<div>\n",
       "<style scoped>\n",
       "    .dataframe tbody tr th:only-of-type {\n",
       "        vertical-align: middle;\n",
       "    }\n",
       "\n",
       "    .dataframe tbody tr th {\n",
       "        vertical-align: top;\n",
       "    }\n",
       "\n",
       "    .dataframe thead th {\n",
       "        text-align: right;\n",
       "    }\n",
       "</style>\n",
       "<table border=\"1\" class=\"dataframe\">\n",
       "  <thead>\n",
       "    <tr style=\"text-align: right;\">\n",
       "      <th></th>\n",
       "      <th>Date Time</th>\n",
       "      <th>T (degC)</th>\n",
       "      <th>p (mbar)</th>\n",
       "    </tr>\n",
       "  </thead>\n",
       "  <tbody>\n",
       "    <tr>\n",
       "      <th>0</th>\n",
       "      <td>01.01.2009 00:10:00</td>\n",
       "      <td>-8.02</td>\n",
       "      <td>996.52</td>\n",
       "    </tr>\n",
       "    <tr>\n",
       "      <th>1</th>\n",
       "      <td>01.01.2009 00:20:00</td>\n",
       "      <td>-8.41</td>\n",
       "      <td>996.57</td>\n",
       "    </tr>\n",
       "    <tr>\n",
       "      <th>2</th>\n",
       "      <td>01.01.2009 00:30:00</td>\n",
       "      <td>-8.51</td>\n",
       "      <td>996.53</td>\n",
       "    </tr>\n",
       "    <tr>\n",
       "      <th>3</th>\n",
       "      <td>01.01.2009 00:40:00</td>\n",
       "      <td>-8.31</td>\n",
       "      <td>996.51</td>\n",
       "    </tr>\n",
       "    <tr>\n",
       "      <th>4</th>\n",
       "      <td>01.01.2009 00:50:00</td>\n",
       "      <td>-8.27</td>\n",
       "      <td>996.51</td>\n",
       "    </tr>\n",
       "  </tbody>\n",
       "</table>\n",
       "</div>"
      ],
      "text/plain": [
       "             Date Time  T (degC)  p (mbar)\n",
       "0  01.01.2009 00:10:00     -8.02    996.52\n",
       "1  01.01.2009 00:20:00     -8.41    996.57\n",
       "2  01.01.2009 00:30:00     -8.51    996.53\n",
       "3  01.01.2009 00:40:00     -8.31    996.51\n",
       "4  01.01.2009 00:50:00     -8.27    996.51"
      ]
     },
     "execution_count": 2,
     "metadata": {},
     "output_type": "execute_result"
    }
   ],
   "source": [
    "# Import data\n",
    "df = pd.read_csv('weather_data.csv')\n",
    "df.head()"
   ]
  },
  {
   "cell_type": "markdown",
   "metadata": {
    "id": "3g-rUmf2Z3MY"
   },
   "source": [
    "#### Starting from 5, take every 6th, that is ever hour , original df has 10 mins interval"
   ]
  },
  {
   "cell_type": "code",
   "execution_count": 3,
   "metadata": {
    "colab": {
     "base_uri": "https://localhost:8080/",
     "height": 644
    },
    "id": "FDJTiftYSPGj",
    "outputId": "d6e7e46e-b481-4222-860f-d4f530f7c1da",
    "scrolled": true
   },
   "outputs": [
    {
     "data": {
      "text/html": [
       "<div>\n",
       "<style scoped>\n",
       "    .dataframe tbody tr th:only-of-type {\n",
       "        vertical-align: middle;\n",
       "    }\n",
       "\n",
       "    .dataframe tbody tr th {\n",
       "        vertical-align: top;\n",
       "    }\n",
       "\n",
       "    .dataframe thead th {\n",
       "        text-align: right;\n",
       "    }\n",
       "</style>\n",
       "<table border=\"1\" class=\"dataframe\">\n",
       "  <thead>\n",
       "    <tr style=\"text-align: right;\">\n",
       "      <th></th>\n",
       "      <th>Date Time</th>\n",
       "      <th>T (degC)</th>\n",
       "      <th>p (mbar)</th>\n",
       "    </tr>\n",
       "  </thead>\n",
       "  <tbody>\n",
       "    <tr>\n",
       "      <th>5</th>\n",
       "      <td>01.01.2009 01:00:00</td>\n",
       "      <td>-8.05</td>\n",
       "      <td>996.50</td>\n",
       "    </tr>\n",
       "    <tr>\n",
       "      <th>11</th>\n",
       "      <td>01.01.2009 02:00:00</td>\n",
       "      <td>-8.88</td>\n",
       "      <td>996.62</td>\n",
       "    </tr>\n",
       "    <tr>\n",
       "      <th>17</th>\n",
       "      <td>01.01.2009 03:00:00</td>\n",
       "      <td>-8.81</td>\n",
       "      <td>996.84</td>\n",
       "    </tr>\n",
       "    <tr>\n",
       "      <th>23</th>\n",
       "      <td>01.01.2009 04:00:00</td>\n",
       "      <td>-9.05</td>\n",
       "      <td>996.99</td>\n",
       "    </tr>\n",
       "    <tr>\n",
       "      <th>29</th>\n",
       "      <td>01.01.2009 05:00:00</td>\n",
       "      <td>-9.63</td>\n",
       "      <td>997.46</td>\n",
       "    </tr>\n",
       "    <tr>\n",
       "      <th>...</th>\n",
       "      <td>...</td>\n",
       "      <td>...</td>\n",
       "      <td>...</td>\n",
       "    </tr>\n",
       "    <tr>\n",
       "      <th>420521</th>\n",
       "      <td>31.12.2016 19:10:00</td>\n",
       "      <td>-0.98</td>\n",
       "      <td>1002.18</td>\n",
       "    </tr>\n",
       "    <tr>\n",
       "      <th>420527</th>\n",
       "      <td>31.12.2016 20:10:00</td>\n",
       "      <td>-1.40</td>\n",
       "      <td>1001.40</td>\n",
       "    </tr>\n",
       "    <tr>\n",
       "      <th>420533</th>\n",
       "      <td>31.12.2016 21:10:00</td>\n",
       "      <td>-2.75</td>\n",
       "      <td>1001.19</td>\n",
       "    </tr>\n",
       "    <tr>\n",
       "      <th>420539</th>\n",
       "      <td>31.12.2016 22:10:00</td>\n",
       "      <td>-2.89</td>\n",
       "      <td>1000.65</td>\n",
       "    </tr>\n",
       "    <tr>\n",
       "      <th>420545</th>\n",
       "      <td>31.12.2016 23:10:00</td>\n",
       "      <td>-3.93</td>\n",
       "      <td>1000.11</td>\n",
       "    </tr>\n",
       "  </tbody>\n",
       "</table>\n",
       "<p>70091 rows × 3 columns</p>\n",
       "</div>"
      ],
      "text/plain": [
       "                  Date Time  T (degC)  p (mbar)\n",
       "5       01.01.2009 01:00:00     -8.05    996.50\n",
       "11      01.01.2009 02:00:00     -8.88    996.62\n",
       "17      01.01.2009 03:00:00     -8.81    996.84\n",
       "23      01.01.2009 04:00:00     -9.05    996.99\n",
       "29      01.01.2009 05:00:00     -9.63    997.46\n",
       "...                     ...       ...       ...\n",
       "420521  31.12.2016 19:10:00     -0.98   1002.18\n",
       "420527  31.12.2016 20:10:00     -1.40   1001.40\n",
       "420533  31.12.2016 21:10:00     -2.75   1001.19\n",
       "420539  31.12.2016 22:10:00     -2.89   1000.65\n",
       "420545  31.12.2016 23:10:00     -3.93   1000.11\n",
       "\n",
       "[70091 rows x 3 columns]"
      ]
     },
     "execution_count": 3,
     "metadata": {},
     "output_type": "execute_result"
    }
   ],
   "source": [
    "df = df[5::6]\n",
    "df"
   ]
  },
  {
   "cell_type": "markdown",
   "metadata": {},
   "source": [
    "The resulting dataframe, df, now consists of rows that represent data at one-hour intervals from the original dataframe, which had a 10-minute interval. The displayed output shows the \"Date Time,\" \"T (degC)\" (temperature), and \"p (mbar)\" (pressure) columns for each selected hour. The dataframe has a total of 70091 rows and 3 columns."
   ]
  },
  {
   "cell_type": "markdown",
   "metadata": {
    "id": "OLnFueewZ3Me"
   },
   "source": [
    "#### Convert to pandas datetime"
   ]
  },
  {
   "cell_type": "code",
   "execution_count": 4,
   "metadata": {
    "colab": {
     "base_uri": "https://localhost:8080/",
     "height": 1000
    },
    "id": "C1MZOKB3Sg0X",
    "outputId": "97bbc2c8-a289-4a39-c3a7-3d40e9f4642f",
    "scrolled": true
   },
   "outputs": [
    {
     "data": {
      "text/html": [
       "<div>\n",
       "<style scoped>\n",
       "    .dataframe tbody tr th:only-of-type {\n",
       "        vertical-align: middle;\n",
       "    }\n",
       "\n",
       "    .dataframe tbody tr th {\n",
       "        vertical-align: top;\n",
       "    }\n",
       "\n",
       "    .dataframe thead th {\n",
       "        text-align: right;\n",
       "    }\n",
       "</style>\n",
       "<table border=\"1\" class=\"dataframe\">\n",
       "  <thead>\n",
       "    <tr style=\"text-align: right;\">\n",
       "      <th></th>\n",
       "      <th>Date Time</th>\n",
       "      <th>T (degC)</th>\n",
       "      <th>p (mbar)</th>\n",
       "    </tr>\n",
       "    <tr>\n",
       "      <th>Date Time</th>\n",
       "      <th></th>\n",
       "      <th></th>\n",
       "      <th></th>\n",
       "    </tr>\n",
       "  </thead>\n",
       "  <tbody>\n",
       "    <tr>\n",
       "      <th>2009-01-01 01:00:00</th>\n",
       "      <td>01.01.2009 01:00:00</td>\n",
       "      <td>-8.05</td>\n",
       "      <td>996.50</td>\n",
       "    </tr>\n",
       "    <tr>\n",
       "      <th>2009-01-01 02:00:00</th>\n",
       "      <td>01.01.2009 02:00:00</td>\n",
       "      <td>-8.88</td>\n",
       "      <td>996.62</td>\n",
       "    </tr>\n",
       "    <tr>\n",
       "      <th>2009-01-01 03:00:00</th>\n",
       "      <td>01.01.2009 03:00:00</td>\n",
       "      <td>-8.81</td>\n",
       "      <td>996.84</td>\n",
       "    </tr>\n",
       "    <tr>\n",
       "      <th>2009-01-01 04:00:00</th>\n",
       "      <td>01.01.2009 04:00:00</td>\n",
       "      <td>-9.05</td>\n",
       "      <td>996.99</td>\n",
       "    </tr>\n",
       "    <tr>\n",
       "      <th>2009-01-01 05:00:00</th>\n",
       "      <td>01.01.2009 05:00:00</td>\n",
       "      <td>-9.63</td>\n",
       "      <td>997.46</td>\n",
       "    </tr>\n",
       "  </tbody>\n",
       "</table>\n",
       "</div>"
      ],
      "text/plain": [
       "                               Date Time  T (degC)  p (mbar)\n",
       "Date Time                                                   \n",
       "2009-01-01 01:00:00  01.01.2009 01:00:00     -8.05    996.50\n",
       "2009-01-01 02:00:00  01.01.2009 02:00:00     -8.88    996.62\n",
       "2009-01-01 03:00:00  01.01.2009 03:00:00     -8.81    996.84\n",
       "2009-01-01 04:00:00  01.01.2009 04:00:00     -9.05    996.99\n",
       "2009-01-01 05:00:00  01.01.2009 05:00:00     -9.63    997.46"
      ]
     },
     "execution_count": 4,
     "metadata": {},
     "output_type": "execute_result"
    }
   ],
   "source": [
    "df.index = pd.to_datetime(df['Date Time'], format='%d.%m.%Y %H:%M:%S')\n",
    "df.head()\n"
   ]
  },
  {
   "cell_type": "markdown",
   "metadata": {
    "id": "9Zas4FzEZ3Mh"
   },
   "source": [
    "### Focusing on T(degC) column (Univariate)"
   ]
  },
  {
   "cell_type": "markdown",
   "metadata": {
    "id": "Pb5jLjnXZ3Mj"
   },
   "source": [
    "#### Ploting the time series"
   ]
  },
  {
   "cell_type": "code",
   "execution_count": 5,
   "metadata": {
    "colab": {
     "base_uri": "https://localhost:8080/",
     "height": 289
    },
    "id": "3fWZ3nYxS3oe",
    "outputId": "bde8d1c4-df76-49fc-d5f2-869e042c7c9e"
   },
   "outputs": [
    {
     "data": {
      "text/plain": [
       "<Axes: xlabel='Date Time'>"
      ]
     },
     "execution_count": 5,
     "metadata": {},
     "output_type": "execute_result"
    },
    {
     "data": {
      "image/png": "[encoded data removed]",
      "text/plain": [
       "<Figure size 432x288 with 1 Axes>"
      ]
     },
     "metadata": {
      "needs_background": "light"
     },
     "output_type": "display_data"
    }
   ],
   "source": [
    "# Plot temperature data\n",
    "temp = df['T (degC)']\n",
    "temp.plot()"
   ]
  },
  {
   "cell_type": "markdown",
   "metadata": {
    "id": "ljbPN5UNZ3Ml"
   },
   "source": [
    "#### Making each row a matrix input\n",
    "\n",
    "\n",
    "This function creates input matrices (X) and output vectors (y) for a time series prediction task. Each row of the input matrix represents a window of window_size consecutive rows from the original DataFrame. The corresponding output is the value in the next time step after the window. The function returns the input matrix (X) and output vector (y)."
   ]
  },
  {
   "cell_type": "code",
   "execution_count": 6,
   "metadata": {
    "id": "bY2yEu2QTBXP"
   },
   "outputs": [],
   "source": [
    "# [[[1], [2], [3], [4], [5]]] [6], take last five to predict the 6th,,,, 1-5 is appended to X, 6 to y\n",
    "# [[[2], [3], [4], [5], [6]]] [7]\n",
    "# [[[3], [4], [5], [6], [7]]] [8]\n",
    "\n",
    "def df_to_X_y(df, window_size=5):\n",
    "  df_as_np = df.to_numpy()\n",
    "  X = []\n",
    "  y = []\n",
    "  for i in range(len(df_as_np)-window_size):\n",
    "    row = [[a] for a in df_as_np[i:i+window_size]]\n",
    "    X.append(row)\n",
    "    label = df_as_np[i+window_size]\n",
    "    y.append(label)\n",
    "  return np.array(X), np.array(y)"
   ]
  },
  {
   "cell_type": "code",
   "execution_count": 7,
   "metadata": {
    "colab": {
     "base_uri": "https://localhost:8080/"
    },
    "id": "qhGUH0NoV9Zq",
    "outputId": "3775d432-2dbe-4046-a355-b8fa9dcd9ca1"
   },
   "outputs": [
    {
     "data": {
      "text/plain": [
       "((70086, 5, 1), (70086,))"
      ]
     },
     "execution_count": 7,
     "metadata": {},
     "output_type": "execute_result"
    }
   ],
   "source": [
    "WINDOW_SIZE = 5\n",
    "X1, y1 = df_to_X_y(temp, WINDOW_SIZE)\n",
    "X1.shape, y1.shape"
   ]
  },
  {
   "cell_type": "markdown",
   "metadata": {},
   "source": [
    "Explanation:\n",
    "\n",
    "WINDOW_SIZE Definition:\n",
    "\n",
    "WINDOW_SIZE = 5: The code sets a window size of 5 for creating input matrices and output vectors.\n",
    "Function Call:\n",
    "\n",
    "X1, y1 = df_to_X_y(temp, WINDOW_SIZE): Calls the df_to_X_y function with the temperature data (temp) and the specified window size (WINDOW_SIZE).\n",
    "Generated Matrices and Vectors:\n",
    "\n",
    "X1.shape, y1.shape: Prints the shapes of the generated input matrices (X1) and output vectors (y1).\n",
    "Result of Focal Cell:\n",
    "\n",
    "((70086, 5, 1), (70086,)): The resulting shapes indicate that X1 is a 3D array with dimensions (70086, 5, 1), and `"
   ]
  },
  {
   "cell_type": "markdown",
   "metadata": {
    "id": "UJOas4pFZ3Mo"
   },
   "source": [
    "#### Splitting the model"
   ]
  },
  {
   "cell_type": "code",
   "execution_count": 8,
   "metadata": {
    "colab": {
     "base_uri": "https://localhost:8080/"
    },
    "id": "Vsy2-BjnWMhB",
    "outputId": "f20d3567-88c0-4d28-8fbb-38b7193f4ab4"
   },
   "outputs": [
    {
     "data": {
      "text/plain": [
       "((60000, 5, 1), (60000,), (5000, 5, 1), (5000,), (5086, 5, 1), (5086,))"
      ]
     },
     "execution_count": 8,
     "metadata": {},
     "output_type": "execute_result"
    }
   ],
   "source": [
    "# Split the data into Training, testinga and validation sets\n",
    "\n",
    "# Training set\n",
    "X_train1, y_train1 = X1[:60000], y1[:60000]\n",
    "# Validation set\n",
    "X_val1, y_val1 = X1[60000:65000], y1[60000:65000]\n",
    "# Testing set\n",
    "X_test1, y_test1 = X1[65000:], y1[65000:]\n",
    "X_train1.shape, y_train1.shape, X_val1.shape, y_val1.shape, X_test1.shape, y_test1.shape"
   ]
  },
  {
   "cell_type": "markdown",
   "metadata": {},
   "source": [
    "Explanation:\n",
    "\n",
    "X_train1, y_train1 = X1[:60000], y1[:60000]: Splits the input matrix X1 and output vector y1 into training data with the first 60,000 samples.\n",
    "\n",
    "X_val1, y_val1 = X1[60000:65000], y1[60000:65000]: Creates a validation set with samples from 60,000 to 64,999 from the input matrix X1 and output vector y1.\n",
    "\n",
    "X_test1, y_test1 = X1[65000:], y1[65000:]: Forms a test set using samples from 65,000 onwards in the input matrix X1 and output vector y1.\n",
    "\n",
    "X_train1.shape, y_train1.shape, X_val1.shape, y_val1.shape, X_test1.shape, y_test1.shape: Prints the shapes of the resulting training, validation, and testing sets."
   ]
  },
  {
   "cell_type": "code",
   "execution_count": 9,
   "metadata": {
    "colab": {
     "base_uri": "https://localhost:8080/"
    },
    "id": "4jZz4ZjpW217",
    "outputId": "6f6cd195-5880-4a0e-add2-5e96e189fc57"
   },
   "outputs": [
    {
     "name": "stdout",
     "output_type": "stream",
     "text": [
      "WARNING:tensorflow:From C:\\Users\\christopher.wachira_\\anaconda3\\lib\\site-packages\\keras\\src\\losses.py:2976: The name tf.losses.sparse_softmax_cross_entropy is deprecated. Please use tf.compat.v1.losses.sparse_softmax_cross_entropy instead.\n",
      "\n"
     ]
    }
   ],
   "source": [
    "# Import necessary libraries \n",
    "import tensorflow as tf\n",
    "import os\n",
    "from tensorflow.keras.models import Sequential\n",
    "from tensorflow.keras.layers import *\n",
    "from tensorflow.keras.callbacks import ModelCheckpoint\n",
    "from tensorflow.keras.losses import MeanSquaredError\n",
    "from tensorflow.keras.metrics import RootMeanSquaredError\n",
    "from tensorflow.keras.optimizers import Adam\n",
    "\n"
   ]
  },
  {
   "cell_type": "code",
   "execution_count": 10,
   "metadata": {},
   "outputs": [
    {
     "name": "stdout",
     "output_type": "stream",
     "text": [
      "WARNING:tensorflow:From C:\\Users\\christopher.wachira_\\anaconda3\\lib\\site-packages\\keras\\src\\backend.py:873: The name tf.get_default_graph is deprecated. Please use tf.compat.v1.get_default_graph instead.\n",
      "\n",
      "Model: \"sequential\"\n",
      "_________________________________________________________________\n",
      " Layer (type)                Output Shape              Param #   \n",
      "=================================================================\n",
      " lstm (LSTM)                 (None, 64)                16896     \n",
      "                                                                 \n",
      " dense (Dense)               (None, 8)                 520       \n",
      "                                                                 \n",
      " dense_1 (Dense)             (None, 1)                 9         \n",
      "                                                                 \n",
      "=================================================================\n",
      "Total params: 17425 (68.07 KB)\n",
      "Trainable params: 17425 (68.07 KB)\n",
      "Non-trainable params: 0 (0.00 Byte)\n",
      "_________________________________________________________________\n"
     ]
    }
   ],
   "source": [
    "# Create a Sequential model\n",
    "model1 = Sequential()\n",
    "\n",
    "# Add an input layer with shape (5, 1)\n",
    "model1.add(InputLayer((5, 1)))\n",
    "\n",
    "# Add an LSTM layer with 64 units\n",
    "model1.add(LSTM(64))\n",
    "\n",
    "# Add a Dense layer with 8 units and 'relu' activation function\n",
    "model1.add(Dense(8, activation='relu'))\n",
    "\n",
    "# Add a Dense layer with 1 unit and 'linear' activation function\n",
    "model1.add(Dense(1, activation='linear'))\n",
    "\n",
    "# Print a summary of the model's architecture\n",
    "model1.summary()"
   ]
  },
  {
   "cell_type": "markdown",
   "metadata": {},
   "source": [
    "Explanation:\n",
    "\n",
    "model1 = Sequential(): Initializes a sequential model, allowing the addition of layers in a linear stack.\n",
    "\n",
    "model1.add(InputLayer((5, 1))): Adds an input layer with a shape of (5, 1), indicating the input data has 5 time steps and 1 feature.\n",
    "\n",
    "model1.add(LSTM(64)): Adds an LSTM layer with 64 units.\n",
    "\n",
    "model1.add(Dense(8, activation='relu')): Adds a Dense layer with 8 units and a Rectified Linear Unit (ReLU) activation function.\n",
    "\n",
    "model1.add(Dense(1, activation='linear')): Adds another Dense layer with 1 unit and a linear activation function.\n",
    "\n",
    "model1.summary(): Prints a summary of the model architecture, including information about the layers, output shapes, and parameters.\n",
    "\n",
    "The summary indicates that the model has a total of 17,425 parameters, all of which are trainable. The model uses an LSTM layer followed by Dense layers for processing and prediction."
   ]
  },
  {
   "cell_type": "markdown",
   "metadata": {
    "id": "tQOAA0hxZ3Mr"
   },
   "source": [
    "#### To specify our model copacks"
   ]
  },
  {
   "cell_type": "code",
   "execution_count": 11,
   "metadata": {
    "id": "5jMK7auDXwEr"
   },
   "outputs": [],
   "source": [
    "# To specify our model checkpoints\n",
    "cp1 = ModelCheckpoint('model1/', save_best_only=True)\n",
    "\n",
    "# Compile the model with Mean Squared Error as the loss function, Adam optimizer with a learning rate of 0.0001,\n",
    "# and Root Mean Squared Error as the evaluation metric\n",
    "model1.compile(loss=MeanSquaredError(), optimizer=Adam(learning_rate=0.0001), metrics=[RootMeanSquaredError()])"
   ]
  },
  {
   "cell_type": "markdown",
   "metadata": {},
   "source": [
    "cp1 = ModelCheckpoint('model1/', save_best_only=True): Creates a ModelCheckpoint object named cp1 to save the best model during training. It will save the model in the 'model1/' directory and only overwrite the file if the new model is better than the previous best.\n",
    "\n",
    "model1.compile(...): Configures the training process for the model. It sets the loss function to Mean Squared Error, the optimizer to Adam with a learning rate of 0.0001, and includes Root Mean Squared Error as a metric for evaluation during training.\n",
    "\n",
    "This code prepares the model for training and ensures that the best version of the model is saved using checkpoints during the training process."
   ]
  },
  {
   "cell_type": "markdown",
   "metadata": {
    "id": "eK2XgGEBZ3Mt"
   },
   "source": [
    "#### Fit the model"
   ]
  },
  {
   "cell_type": "code",
   "execution_count": 12,
   "metadata": {
    "id": "CWeSakSwYLtr",
    "scrolled": true
   },
   "outputs": [
    {
     "name": "stdout",
     "output_type": "stream",
     "text": [
      "Epoch 1/10\n",
      "WARNING:tensorflow:From C:\\Users\\christopher.wachira_\\anaconda3\\lib\\site-packages\\keras\\src\\utils\\tf_utils.py:492: The name tf.ragged.RaggedTensorValue is deprecated. Please use tf.compat.v1.ragged.RaggedTensorValue instead.\n",
      "\n",
      "1870/1875 [============================>.] - ETA: 0s - loss: 49.5947 - root_mean_squared_error: 7.0424INFO:tensorflow:Assets written to: model1\\assets\n"
     ]
    },
    {
     "name": "stderr",
     "output_type": "stream",
     "text": [
      "INFO:tensorflow:Assets written to: model1\\assets\n"
     ]
    },
    {
     "name": "stdout",
     "output_type": "stream",
     "text": [
      "1875/1875 [==============================] - 15s 7ms/step - loss: 49.4767 - root_mean_squared_error: 7.0340 - val_loss: 1.6221 - val_root_mean_squared_error: 1.2736\n",
      "Epoch 2/10\n",
      "1869/1875 [============================>.] - ETA: 0s - loss: 2.8673 - root_mean_squared_error: 1.6933INFO:tensorflow:Assets written to: model1\\assets\n"
     ]
    },
    {
     "name": "stderr",
     "output_type": "stream",
     "text": [
      "INFO:tensorflow:Assets written to: model1\\assets\n"
     ]
    },
    {
     "name": "stdout",
     "output_type": "stream",
     "text": [
      "1875/1875 [==============================] - 11s 6ms/step - loss: 2.8609 - root_mean_squared_error: 1.6914 - val_loss: 0.6485 - val_root_mean_squared_error: 0.8053\n",
      "Epoch 3/10\n",
      "1859/1875 [============================>.] - ETA: 0s - loss: 1.0182 - root_mean_squared_error: 1.0091INFO:tensorflow:Assets written to: model1\\assets\n"
     ]
    },
    {
     "name": "stderr",
     "output_type": "stream",
     "text": [
      "INFO:tensorflow:Assets written to: model1\\assets\n"
     ]
    },
    {
     "name": "stdout",
     "output_type": "stream",
     "text": [
      "1875/1875 [==============================] - 12s 6ms/step - loss: 1.0171 - root_mean_squared_error: 1.0085 - val_loss: 0.5360 - val_root_mean_squared_error: 0.7321\n",
      "Epoch 4/10\n",
      "1872/1875 [============================>.] - ETA: 0s - loss: 0.7512 - root_mean_squared_error: 0.8667INFO:tensorflow:Assets written to: model1\\assets\n"
     ]
    },
    {
     "name": "stderr",
     "output_type": "stream",
     "text": [
      "INFO:tensorflow:Assets written to: model1\\assets\n"
     ]
    },
    {
     "name": "stdout",
     "output_type": "stream",
     "text": [
      "1875/1875 [==============================] - 12s 7ms/step - loss: 0.7514 - root_mean_squared_error: 0.8668 - val_loss: 0.5299 - val_root_mean_squared_error: 0.7280\n",
      "Epoch 5/10\n",
      "1872/1875 [============================>.] - ETA: 0s - loss: 0.6906 - root_mean_squared_error: 0.8310INFO:tensorflow:Assets written to: model1\\assets\n"
     ]
    },
    {
     "name": "stderr",
     "output_type": "stream",
     "text": [
      "INFO:tensorflow:Assets written to: model1\\assets\n"
     ]
    },
    {
     "name": "stdout",
     "output_type": "stream",
     "text": [
      "1875/1875 [==============================] - 14s 8ms/step - loss: 0.6905 - root_mean_squared_error: 0.8310 - val_loss: 0.4987 - val_root_mean_squared_error: 0.7062\n",
      "Epoch 6/10\n",
      "1875/1875 [==============================] - 10s 5ms/step - loss: 0.6690 - root_mean_squared_error: 0.8179 - val_loss: 0.5249 - val_root_mean_squared_error: 0.7245\n",
      "Epoch 7/10\n",
      "1873/1875 [============================>.] - ETA: 0s - loss: 0.6591 - root_mean_squared_error: 0.8119INFO:tensorflow:Assets written to: model1\\assets\n"
     ]
    },
    {
     "name": "stderr",
     "output_type": "stream",
     "text": [
      "INFO:tensorflow:Assets written to: model1\\assets\n"
     ]
    },
    {
     "name": "stdout",
     "output_type": "stream",
     "text": [
      "1875/1875 [==============================] - 12s 7ms/step - loss: 0.6592 - root_mean_squared_error: 0.8119 - val_loss: 0.4922 - val_root_mean_squared_error: 0.7016\n",
      "Epoch 8/10\n",
      "1875/1875 [==============================] - 10s 6ms/step - loss: 0.6534 - root_mean_squared_error: 0.8083 - val_loss: 0.5103 - val_root_mean_squared_error: 0.7143\n",
      "Epoch 9/10\n",
      "1875/1875 [==============================] - 9s 5ms/step - loss: 0.6496 - root_mean_squared_error: 0.8060 - val_loss: 0.5215 - val_root_mean_squared_error: 0.7221\n",
      "Epoch 10/10\n",
      "1875/1875 [==============================] - 9s 5ms/step - loss: 0.6470 - root_mean_squared_error: 0.8044 - val_loss: 0.4990 - val_root_mean_squared_error: 0.7064\n"
     ]
    },
    {
     "data": {
      "text/plain": [
       "<keras.src.callbacks.History at 0x23f5d964be0>"
      ]
     },
     "execution_count": 12,
     "metadata": {},
     "output_type": "execute_result"
    }
   ],
   "source": [
    "# Fit the model using training data (X_train1, y_train1) and validate on validation data (X_val1, y_val1) for 10 epochs\n",
    "# Callbacks include ModelCheckpoint (cp1) to save the best model during training\n",
    "model1.fit(X_train1, y_train1, validation_data=(X_val1, y_val1), epochs=10, callbacks=[cp1])"
   ]
  },
  {
   "cell_type": "markdown",
   "metadata": {
    "id": "4DvI_psjZ3Mv"
   },
   "source": [
    "Loss, RMSE and validation loss(which is the most important)all decreased, and the model was saved at 0.4990 which was the lowest"
   ]
  },
  {
   "cell_type": "code",
   "execution_count": 13,
   "metadata": {
    "id": "vdaqGHG4YZkN"
   },
   "outputs": [
    {
     "name": "stdout",
     "output_type": "stream",
     "text": [
      "WARNING:tensorflow:From C:\\Users\\christopher.wachira_\\anaconda3\\lib\\site-packages\\keras\\src\\saving\\legacy\\saved_model\\load.py:107: The name tf.gfile.Exists is deprecated. Please use tf.io.gfile.exists instead.\n",
      "\n"
     ]
    },
    {
     "name": "stderr",
     "output_type": "stream",
     "text": [
      "WARNING:tensorflow:From C:\\Users\\christopher.wachira_\\anaconda3\\lib\\site-packages\\keras\\src\\saving\\legacy\\saved_model\\load.py:107: The name tf.gfile.Exists is deprecated. Please use tf.io.gfile.exists instead.\n",
      "\n"
     ]
    }
   ],
   "source": [
    "# Load the model with the lowest validation loss to memory\n",
    "from tensorflow.keras.models import load_model\n",
    "\n",
    "# Load the best model saved during training from the 'model1/' directory\n",
    "model1 = load_model('model1/')"
   ]
  },
  {
   "cell_type": "markdown",
   "metadata": {
    "id": "IRnTjiiJZ3My"
   },
   "source": [
    "#### Predictions"
   ]
  },
  {
   "cell_type": "markdown",
   "metadata": {
    "id": "HQ2eIACJZ3My"
   },
   "source": [
    "On the training data"
   ]
  },
  {
   "cell_type": "code",
   "execution_count": 14,
   "metadata": {
    "colab": {
     "base_uri": "https://localhost:8080/",
     "height": 420
    },
    "id": "byObmr8CZRhp",
    "outputId": "00bd6717-cff6-4e3c-a708-89e503e01bdb"
   },
   "outputs": [
    {
     "name": "stdout",
     "output_type": "stream",
     "text": [
      "1875/1875 [==============================] - 6s 3ms/step\n"
     ]
    },
    {
     "data": {
      "text/html": [
       "<div>\n",
       "<style scoped>\n",
       "    .dataframe tbody tr th:only-of-type {\n",
       "        vertical-align: middle;\n",
       "    }\n",
       "\n",
       "    .dataframe tbody tr th {\n",
       "        vertical-align: top;\n",
       "    }\n",
       "\n",
       "    .dataframe thead th {\n",
       "        text-align: right;\n",
       "    }\n",
       "</style>\n",
       "<table border=\"1\" class=\"dataframe\">\n",
       "  <thead>\n",
       "    <tr style=\"text-align: right;\">\n",
       "      <th></th>\n",
       "      <th>Train Predictions</th>\n",
       "      <th>Actuals</th>\n",
       "    </tr>\n",
       "  </thead>\n",
       "  <tbody>\n",
       "    <tr>\n",
       "      <th>0</th>\n",
       "      <td>-9.819400</td>\n",
       "      <td>-9.67</td>\n",
       "    </tr>\n",
       "    <tr>\n",
       "      <th>1</th>\n",
       "      <td>-9.665568</td>\n",
       "      <td>-9.17</td>\n",
       "    </tr>\n",
       "    <tr>\n",
       "      <th>2</th>\n",
       "      <td>-8.814911</td>\n",
       "      <td>-8.10</td>\n",
       "    </tr>\n",
       "    <tr>\n",
       "      <th>3</th>\n",
       "      <td>-7.368946</td>\n",
       "      <td>-7.66</td>\n",
       "    </tr>\n",
       "    <tr>\n",
       "      <th>4</th>\n",
       "      <td>-7.267952</td>\n",
       "      <td>-7.04</td>\n",
       "    </tr>\n",
       "    <tr>\n",
       "      <th>...</th>\n",
       "      <td>...</td>\n",
       "      <td>...</td>\n",
       "    </tr>\n",
       "    <tr>\n",
       "      <th>59995</th>\n",
       "      <td>6.118703</td>\n",
       "      <td>6.07</td>\n",
       "    </tr>\n",
       "    <tr>\n",
       "      <th>59996</th>\n",
       "      <td>7.174312</td>\n",
       "      <td>9.88</td>\n",
       "    </tr>\n",
       "    <tr>\n",
       "      <th>59997</th>\n",
       "      <td>12.004978</td>\n",
       "      <td>13.53</td>\n",
       "    </tr>\n",
       "    <tr>\n",
       "      <th>59998</th>\n",
       "      <td>15.653346</td>\n",
       "      <td>15.43</td>\n",
       "    </tr>\n",
       "    <tr>\n",
       "      <th>59999</th>\n",
       "      <td>16.419474</td>\n",
       "      <td>15.54</td>\n",
       "    </tr>\n",
       "  </tbody>\n",
       "</table>\n",
       "<p>60000 rows × 2 columns</p>\n",
       "</div>"
      ],
      "text/plain": [
       "       Train Predictions  Actuals\n",
       "0              -9.819400    -9.67\n",
       "1              -9.665568    -9.17\n",
       "2              -8.814911    -8.10\n",
       "3              -7.368946    -7.66\n",
       "4              -7.267952    -7.04\n",
       "...                  ...      ...\n",
       "59995           6.118703     6.07\n",
       "59996           7.174312     9.88\n",
       "59997          12.004978    13.53\n",
       "59998          15.653346    15.43\n",
       "59999          16.419474    15.54\n",
       "\n",
       "[60000 rows x 2 columns]"
      ]
     },
     "execution_count": 14,
     "metadata": {},
     "output_type": "execute_result"
    }
   ],
   "source": [
    "# Predictions on the training data using the trained model (model1)\n",
    "\n",
    "# The following line generates predictions using the trained model on the training data\n",
    "train_predictions = model1.predict(X_train1).flatten()\n",
    "\n",
    "# Creating a DataFrame to display the predicted values alongside the actual values\n",
    "train_results = pd.DataFrame(data={'Train Predictions': train_predictions, 'Actuals': y_train1})\n",
    "\n",
    "# Display the DataFrame with the predicted and actual values\n",
    "train_results"
   ]
  },
  {
   "cell_type": "markdown",
   "metadata": {
    "id": "8Ovcg1dgZ3M1"
   },
   "source": [
    "#### Plotting"
   ]
  },
  {
   "cell_type": "code",
   "execution_count": 15,
   "metadata": {
    "colab": {
     "base_uri": "https://localhost:8080/",
     "height": 286
    },
    "id": "KTqY8r6_Zpev",
    "outputId": "cfd490b8-668c-4b58-ec0b-6b79620f3ac3"
   },
   "outputs": [
    {
     "data": {
      "text/plain": [
       "[<matplotlib.lines.Line2D at 0x23f658b3a60>]"
      ]
     },
     "execution_count": 15,
     "metadata": {},
     "output_type": "execute_result"
    },
    {
     "data": {
      "image/png": "[encoded data removed]",
      "text/plain": [
       "<Figure size 432x288 with 1 Axes>"
      ]
     },
     "metadata": {
      "needs_background": "light"
     },
     "output_type": "display_data"
    }
   ],
   "source": [
    "# Plotting\n",
    "plt.plot(train_results['Train Predictions'][50:100])  # Plot predictions on training data from index 50 to 100\n",
    "plt.plot(train_results['Actuals'][50:100])           # Plot actual values on training data from index 50 to 100"
   ]
  },
  {
   "cell_type": "markdown",
   "metadata": {
    "id": "b56h25TxZ3M2"
   },
   "source": [
    "#### Lets see how it did on the validation data"
   ]
  },
  {
   "cell_type": "code",
   "execution_count": 16,
   "metadata": {
    "colab": {
     "base_uri": "https://localhost:8080/",
     "height": 420
    },
    "id": "vuY5nmGYZ8ix",
    "outputId": "0cf2414b-fdbf-40d7-a277-90d29814b3dc"
   },
   "outputs": [
    {
     "name": "stdout",
     "output_type": "stream",
     "text": [
      "157/157 [==============================] - 1s 3ms/step\n"
     ]
    },
    {
     "data": {
      "text/html": [
       "<div>\n",
       "<style scoped>\n",
       "    .dataframe tbody tr th:only-of-type {\n",
       "        vertical-align: middle;\n",
       "    }\n",
       "\n",
       "    .dataframe tbody tr th {\n",
       "        vertical-align: top;\n",
       "    }\n",
       "\n",
       "    .dataframe thead th {\n",
       "        text-align: right;\n",
       "    }\n",
       "</style>\n",
       "<table border=\"1\" class=\"dataframe\">\n",
       "  <thead>\n",
       "    <tr style=\"text-align: right;\">\n",
       "      <th></th>\n",
       "      <th>Val Predictions</th>\n",
       "      <th>Actuals</th>\n",
       "    </tr>\n",
       "  </thead>\n",
       "  <tbody>\n",
       "    <tr>\n",
       "      <th>0</th>\n",
       "      <td>15.381510</td>\n",
       "      <td>14.02</td>\n",
       "    </tr>\n",
       "    <tr>\n",
       "      <th>1</th>\n",
       "      <td>13.130645</td>\n",
       "      <td>13.67</td>\n",
       "    </tr>\n",
       "    <tr>\n",
       "      <th>2</th>\n",
       "      <td>13.087084</td>\n",
       "      <td>12.27</td>\n",
       "    </tr>\n",
       "    <tr>\n",
       "      <th>3</th>\n",
       "      <td>11.567726</td>\n",
       "      <td>11.19</td>\n",
       "    </tr>\n",
       "    <tr>\n",
       "      <th>4</th>\n",
       "      <td>10.449093</td>\n",
       "      <td>10.85</td>\n",
       "    </tr>\n",
       "    <tr>\n",
       "      <th>...</th>\n",
       "      <td>...</td>\n",
       "      <td>...</td>\n",
       "    </tr>\n",
       "    <tr>\n",
       "      <th>4995</th>\n",
       "      <td>17.466074</td>\n",
       "      <td>18.27</td>\n",
       "    </tr>\n",
       "    <tr>\n",
       "      <th>4996</th>\n",
       "      <td>17.531942</td>\n",
       "      <td>17.85</td>\n",
       "    </tr>\n",
       "    <tr>\n",
       "      <th>4997</th>\n",
       "      <td>17.283659</td>\n",
       "      <td>16.65</td>\n",
       "    </tr>\n",
       "    <tr>\n",
       "      <th>4998</th>\n",
       "      <td>15.958948</td>\n",
       "      <td>15.85</td>\n",
       "    </tr>\n",
       "    <tr>\n",
       "      <th>4999</th>\n",
       "      <td>15.174923</td>\n",
       "      <td>15.09</td>\n",
       "    </tr>\n",
       "  </tbody>\n",
       "</table>\n",
       "<p>5000 rows × 2 columns</p>\n",
       "</div>"
      ],
      "text/plain": [
       "      Val Predictions  Actuals\n",
       "0           15.381510    14.02\n",
       "1           13.130645    13.67\n",
       "2           13.087084    12.27\n",
       "3           11.567726    11.19\n",
       "4           10.449093    10.85\n",
       "...               ...      ...\n",
       "4995        17.466074    18.27\n",
       "4996        17.531942    17.85\n",
       "4997        17.283659    16.65\n",
       "4998        15.958948    15.85\n",
       "4999        15.174923    15.09\n",
       "\n",
       "[5000 rows x 2 columns]"
      ]
     },
     "execution_count": 16,
     "metadata": {},
     "output_type": "execute_result"
    }
   ],
   "source": [
    "# Predictions on the validation data using the trained model (model1)\n",
    "\n",
    "# The following line generates predictions using the trained model on the validation data\n",
    "val_predictions = model1.predict(X_val1).flatten()\n",
    "\n",
    "# Creating a DataFrame to display the predicted values alongside the actual values for the validation data\n",
    "val_results = pd.DataFrame(data={'Val Predictions': val_predictions, 'Actuals': y_val1})\n",
    "\n",
    "# Display the DataFrame with the predicted and actual values for the validation data\n",
    "val_results"
   ]
  },
  {
   "cell_type": "code",
   "execution_count": 17,
   "metadata": {
    "colab": {
     "base_uri": "https://localhost:8080/",
     "height": 282
    },
    "id": "6MlctzuuaQww",
    "outputId": "7147a4ca-90a3-4c2d-ae2b-76fe40a2ff0b"
   },
   "outputs": [
    {
     "data": {
      "text/plain": [
       "[<matplotlib.lines.Line2D at 0x23f66e94dc0>]"
      ]
     },
     "execution_count": 17,
     "metadata": {},
     "output_type": "execute_result"
    },
    {
     "data": {
      "image/png": "[encoded data removed]",
      "text/plain": [
       "<Figure size 432x288 with 1 Axes>"
      ]
     },
     "metadata": {
      "needs_background": "light"
     },
     "output_type": "display_data"
    }
   ],
   "source": [
    "# Plotting\n",
    "plt.plot(val_results['Val Predictions'][:100])\n",
    "plt.plot(val_results['Actuals'][:100])"
   ]
  },
  {
   "cell_type": "markdown",
   "metadata": {
    "id": "biGoKSSxZ3M4"
   },
   "source": [
    "#### and on the test dataset"
   ]
  },
  {
   "cell_type": "code",
   "execution_count": 18,
   "metadata": {
    "colab": {
     "base_uri": "https://localhost:8080/",
     "height": 420
    },
    "id": "5O59Q8MTaRN7",
    "outputId": "4e55d8f6-c9ad-4349-9da7-e937b5ade6ae"
   },
   "outputs": [
    {
     "name": "stdout",
     "output_type": "stream",
     "text": [
      "159/159 [==============================] - 0s 3ms/step\n"
     ]
    },
    {
     "data": {
      "text/html": [
       "<div>\n",
       "<style scoped>\n",
       "    .dataframe tbody tr th:only-of-type {\n",
       "        vertical-align: middle;\n",
       "    }\n",
       "\n",
       "    .dataframe tbody tr th {\n",
       "        vertical-align: top;\n",
       "    }\n",
       "\n",
       "    .dataframe thead th {\n",
       "        text-align: right;\n",
       "    }\n",
       "</style>\n",
       "<table border=\"1\" class=\"dataframe\">\n",
       "  <thead>\n",
       "    <tr style=\"text-align: right;\">\n",
       "      <th></th>\n",
       "      <th>Test Predictions</th>\n",
       "      <th>Actuals</th>\n",
       "    </tr>\n",
       "  </thead>\n",
       "  <tbody>\n",
       "    <tr>\n",
       "      <th>0</th>\n",
       "      <td>14.489413</td>\n",
       "      <td>13.99</td>\n",
       "    </tr>\n",
       "    <tr>\n",
       "      <th>1</th>\n",
       "      <td>13.339381</td>\n",
       "      <td>13.46</td>\n",
       "    </tr>\n",
       "    <tr>\n",
       "      <th>2</th>\n",
       "      <td>12.941147</td>\n",
       "      <td>12.93</td>\n",
       "    </tr>\n",
       "    <tr>\n",
       "      <th>3</th>\n",
       "      <td>12.525792</td>\n",
       "      <td>12.43</td>\n",
       "    </tr>\n",
       "    <tr>\n",
       "      <th>4</th>\n",
       "      <td>12.071763</td>\n",
       "      <td>12.17</td>\n",
       "    </tr>\n",
       "    <tr>\n",
       "      <th>...</th>\n",
       "      <td>...</td>\n",
       "      <td>...</td>\n",
       "    </tr>\n",
       "    <tr>\n",
       "      <th>5081</th>\n",
       "      <td>-1.171498</td>\n",
       "      <td>-0.98</td>\n",
       "    </tr>\n",
       "    <tr>\n",
       "      <th>5082</th>\n",
       "      <td>-1.500765</td>\n",
       "      <td>-1.40</td>\n",
       "    </tr>\n",
       "    <tr>\n",
       "      <th>5083</th>\n",
       "      <td>-1.675806</td>\n",
       "      <td>-2.75</td>\n",
       "    </tr>\n",
       "    <tr>\n",
       "      <th>5084</th>\n",
       "      <td>-3.374628</td>\n",
       "      <td>-2.89</td>\n",
       "    </tr>\n",
       "    <tr>\n",
       "      <th>5085</th>\n",
       "      <td>-3.235152</td>\n",
       "      <td>-3.93</td>\n",
       "    </tr>\n",
       "  </tbody>\n",
       "</table>\n",
       "<p>5086 rows × 2 columns</p>\n",
       "</div>"
      ],
      "text/plain": [
       "      Test Predictions  Actuals\n",
       "0            14.489413    13.99\n",
       "1            13.339381    13.46\n",
       "2            12.941147    12.93\n",
       "3            12.525792    12.43\n",
       "4            12.071763    12.17\n",
       "...                ...      ...\n",
       "5081         -1.171498    -0.98\n",
       "5082         -1.500765    -1.40\n",
       "5083         -1.675806    -2.75\n",
       "5084         -3.374628    -2.89\n",
       "5085         -3.235152    -3.93\n",
       "\n",
       "[5086 rows x 2 columns]"
      ]
     },
     "execution_count": 18,
     "metadata": {},
     "output_type": "execute_result"
    }
   ],
   "source": [
    "# Predictions on the test dataset using the trained model (model1)\n",
    "\n",
    "# The following line generates predictions using the trained model on the test data\n",
    "test_predictions = model1.predict(X_test1).flatten()\n",
    "\n",
    "# Creating a DataFrame to display the predicted values alongside the actual values for the test data\n",
    "test_results = pd.DataFrame(data={'Test Predictions': test_predictions, 'Actuals': y_test1})\n",
    "\n",
    "# Display the DataFrame with the predicted and actual values for the test data\n",
    "test_results"
   ]
  },
  {
   "cell_type": "code",
   "execution_count": 19,
   "metadata": {
    "colab": {
     "base_uri": "https://localhost:8080/",
     "height": 282
    },
    "id": "m8UzGIfEaW-P",
    "outputId": "85be190b-81ac-4223-be21-cdc0f67e592f"
   },
   "outputs": [
    {
     "data": {
      "text/plain": [
       "[<matplotlib.lines.Line2D at 0x23f5f1b57f0>]"
      ]
     },
     "execution_count": 19,
     "metadata": {},
     "output_type": "execute_result"
    },
    {
     "data": {
      "image/png": "[encoded data removed]",
      "text/plain": [
       "<Figure size 432x288 with 1 Axes>"
      ]
     },
     "metadata": {
      "needs_background": "light"
     },
     "output_type": "display_data"
    }
   ],
   "source": [
    "# Plotting\n",
    "plt.plot(test_results['Test Predictions'][:100])\n",
    "plt.plot(test_results['Actuals'][:100])"
   ]
  },
  {
   "cell_type": "markdown",
   "metadata": {
    "id": "SyKUmamFZ3M7"
   },
   "source": [
    "#### Plotting actual and predictions"
   ]
  },
  {
   "cell_type": "code",
   "execution_count": 20,
   "metadata": {
    "id": "XFf7bCFlctu8"
   },
   "outputs": [],
   "source": [
    "# Plotting actual and predictions\n",
    "from sklearn.metrics import mean_squared_error as mse\n",
    "\n",
    "# Define a function to plot predictions and actual values\n",
    "def plot_predictions1(model, X, y, start=0, end=100):\n",
    "  # Generate predictions using the provided model\n",
    "  predictions = model.predict(X).flatten()\n",
    "  \n",
    "  # Create a DataFrame with Predictions and Actuals for visualization\n",
    "  df = pd.DataFrame(data={'Predictions': predictions, 'Actuals': y})\n",
    "  \n",
    "  # Plot the Predictions and Actuals within the specified range\n",
    "  plt.plot(df['Predictions'][start:end])\n",
    "  plt.plot(df['Actuals'][start:end])\n",
    "  \n",
    "  # Return the DataFrame and Mean Squared Error (MSE) for further analysis\n",
    "  return df, mse(y, predictions)"
   ]
  },
  {
   "cell_type": "code",
   "execution_count": 21,
   "metadata": {
    "colab": {
     "base_uri": "https://localhost:8080/",
     "height": 511
    },
    "id": "pdabyyStdavq",
    "outputId": "e07aa785-101b-462b-81e8-35581ce0812f"
   },
   "outputs": [
    {
     "name": "stdout",
     "output_type": "stream",
     "text": [
      "159/159 [==============================] - 0s 2ms/step\n"
     ]
    },
    {
     "data": {
      "text/plain": [
       "(      Predictions  Actuals\n",
       " 0       14.489413    13.99\n",
       " 1       13.339381    13.46\n",
       " 2       12.941147    12.93\n",
       " 3       12.525792    12.43\n",
       " 4       12.071763    12.17\n",
       " ...           ...      ...\n",
       " 5081    -1.171498    -0.98\n",
       " 5082    -1.500765    -1.40\n",
       " 5083    -1.675806    -2.75\n",
       " 5084    -3.374628    -2.89\n",
       " 5085    -3.235152    -3.93\n",
       " \n",
       " [5086 rows x 2 columns],\n",
       " 0.618725827333579)"
      ]
     },
     "execution_count": 21,
     "metadata": {},
     "output_type": "execute_result"
    },
    {
     "data": {
      "image/png": "[encoded data removed]",
      "text/plain": [
       "<Figure size 432x288 with 1 Axes>"
      ]
     },
     "metadata": {
      "needs_background": "light"
     },
     "output_type": "display_data"
    }
   ],
   "source": [
    "plot_predictions1(model1, X_test1, y_test1)"
   ]
  },
  {
   "cell_type": "code",
   "execution_count": null,
   "metadata": {
    "id": "AIJOOloJZ3NS"
   },
   "outputs": [],
   "source": []
  },
  {
   "cell_type": "markdown",
   "metadata": {},
   "source": [
    "## Multivariate Forecasting"
   ]
  },
  {
   "cell_type": "markdown",
   "metadata": {},
   "source": [
    "#### Adding seconds to temperature"
   ]
  },
  {
   "cell_type": "code",
   "execution_count": 22,
   "metadata": {},
   "outputs": [
    {
     "data": {
      "text/html": [
       "<div>\n",
       "<style scoped>\n",
       "    .dataframe tbody tr th:only-of-type {\n",
       "        vertical-align: middle;\n",
       "    }\n",
       "\n",
       "    .dataframe tbody tr th {\n",
       "        vertical-align: top;\n",
       "    }\n",
       "\n",
       "    .dataframe thead th {\n",
       "        text-align: right;\n",
       "    }\n",
       "</style>\n",
       "<table border=\"1\" class=\"dataframe\">\n",
       "  <thead>\n",
       "    <tr style=\"text-align: right;\">\n",
       "      <th></th>\n",
       "      <th>Temperature</th>\n",
       "      <th>Seconds</th>\n",
       "    </tr>\n",
       "    <tr>\n",
       "      <th>Date Time</th>\n",
       "      <th></th>\n",
       "      <th></th>\n",
       "    </tr>\n",
       "  </thead>\n",
       "  <tbody>\n",
       "    <tr>\n",
       "      <th>2009-01-01 01:00:00</th>\n",
       "      <td>-8.05</td>\n",
       "      <td>1.230772e+09</td>\n",
       "    </tr>\n",
       "    <tr>\n",
       "      <th>2009-01-01 02:00:00</th>\n",
       "      <td>-8.88</td>\n",
       "      <td>1.230775e+09</td>\n",
       "    </tr>\n",
       "    <tr>\n",
       "      <th>2009-01-01 03:00:00</th>\n",
       "      <td>-8.81</td>\n",
       "      <td>1.230779e+09</td>\n",
       "    </tr>\n",
       "    <tr>\n",
       "      <th>2009-01-01 04:00:00</th>\n",
       "      <td>-9.05</td>\n",
       "      <td>1.230782e+09</td>\n",
       "    </tr>\n",
       "    <tr>\n",
       "      <th>2009-01-01 05:00:00</th>\n",
       "      <td>-9.63</td>\n",
       "      <td>1.230786e+09</td>\n",
       "    </tr>\n",
       "    <tr>\n",
       "      <th>...</th>\n",
       "      <td>...</td>\n",
       "      <td>...</td>\n",
       "    </tr>\n",
       "    <tr>\n",
       "      <th>2016-12-31 19:10:00</th>\n",
       "      <td>-0.98</td>\n",
       "      <td>1.483211e+09</td>\n",
       "    </tr>\n",
       "    <tr>\n",
       "      <th>2016-12-31 20:10:00</th>\n",
       "      <td>-1.40</td>\n",
       "      <td>1.483215e+09</td>\n",
       "    </tr>\n",
       "    <tr>\n",
       "      <th>2016-12-31 21:10:00</th>\n",
       "      <td>-2.75</td>\n",
       "      <td>1.483219e+09</td>\n",
       "    </tr>\n",
       "    <tr>\n",
       "      <th>2016-12-31 22:10:00</th>\n",
       "      <td>-2.89</td>\n",
       "      <td>1.483222e+09</td>\n",
       "    </tr>\n",
       "    <tr>\n",
       "      <th>2016-12-31 23:10:00</th>\n",
       "      <td>-3.93</td>\n",
       "      <td>1.483226e+09</td>\n",
       "    </tr>\n",
       "  </tbody>\n",
       "</table>\n",
       "<p>70091 rows × 2 columns</p>\n",
       "</div>"
      ],
      "text/plain": [
       "                     Temperature       Seconds\n",
       "Date Time                                     \n",
       "2009-01-01 01:00:00        -8.05  1.230772e+09\n",
       "2009-01-01 02:00:00        -8.88  1.230775e+09\n",
       "2009-01-01 03:00:00        -8.81  1.230779e+09\n",
       "2009-01-01 04:00:00        -9.05  1.230782e+09\n",
       "2009-01-01 05:00:00        -9.63  1.230786e+09\n",
       "...                          ...           ...\n",
       "2016-12-31 19:10:00        -0.98  1.483211e+09\n",
       "2016-12-31 20:10:00        -1.40  1.483215e+09\n",
       "2016-12-31 21:10:00        -2.75  1.483219e+09\n",
       "2016-12-31 22:10:00        -2.89  1.483222e+09\n",
       "2016-12-31 23:10:00        -3.93  1.483226e+09\n",
       "\n",
       "[70091 rows x 2 columns]"
      ]
     },
     "execution_count": 22,
     "metadata": {},
     "output_type": "execute_result"
    }
   ],
   "source": [
    "# Creating a DataFrame 'temp_df' with 'Temperature' and corresponding timestamp 'Seconds'\n",
    "temp_df = pd.DataFrame({'Temperature':temp})\n",
    "temp_df['Seconds'] = temp_df.index.map(pd.Timestamp.timestamp)\n",
    "temp_df"
   ]
  },
  {
   "cell_type": "code",
   "execution_count": 23,
   "metadata": {},
   "outputs": [
    {
     "data": {
      "text/html": [
       "<div>\n",
       "<style scoped>\n",
       "    .dataframe tbody tr th:only-of-type {\n",
       "        vertical-align: middle;\n",
       "    }\n",
       "\n",
       "    .dataframe tbody tr th {\n",
       "        vertical-align: top;\n",
       "    }\n",
       "\n",
       "    .dataframe thead th {\n",
       "        text-align: right;\n",
       "    }\n",
       "</style>\n",
       "<table border=\"1\" class=\"dataframe\">\n",
       "  <thead>\n",
       "    <tr style=\"text-align: right;\">\n",
       "      <th></th>\n",
       "      <th>Temperature</th>\n",
       "      <th>Seconds</th>\n",
       "      <th>Day sin</th>\n",
       "      <th>Day cos</th>\n",
       "      <th>Year sin</th>\n",
       "      <th>Year cos</th>\n",
       "    </tr>\n",
       "    <tr>\n",
       "      <th>Date Time</th>\n",
       "      <th></th>\n",
       "      <th></th>\n",
       "      <th></th>\n",
       "      <th></th>\n",
       "      <th></th>\n",
       "      <th></th>\n",
       "    </tr>\n",
       "  </thead>\n",
       "  <tbody>\n",
       "    <tr>\n",
       "      <th>2009-01-01 01:00:00</th>\n",
       "      <td>-8.05</td>\n",
       "      <td>1.230772e+09</td>\n",
       "      <td>0.258819</td>\n",
       "      <td>0.965926</td>\n",
       "      <td>0.010049</td>\n",
       "      <td>0.999950</td>\n",
       "    </tr>\n",
       "    <tr>\n",
       "      <th>2009-01-01 02:00:00</th>\n",
       "      <td>-8.88</td>\n",
       "      <td>1.230775e+09</td>\n",
       "      <td>0.500000</td>\n",
       "      <td>0.866025</td>\n",
       "      <td>0.010766</td>\n",
       "      <td>0.999942</td>\n",
       "    </tr>\n",
       "    <tr>\n",
       "      <th>2009-01-01 03:00:00</th>\n",
       "      <td>-8.81</td>\n",
       "      <td>1.230779e+09</td>\n",
       "      <td>0.707107</td>\n",
       "      <td>0.707107</td>\n",
       "      <td>0.011483</td>\n",
       "      <td>0.999934</td>\n",
       "    </tr>\n",
       "    <tr>\n",
       "      <th>2009-01-01 04:00:00</th>\n",
       "      <td>-9.05</td>\n",
       "      <td>1.230782e+09</td>\n",
       "      <td>0.866025</td>\n",
       "      <td>0.500000</td>\n",
       "      <td>0.012199</td>\n",
       "      <td>0.999926</td>\n",
       "    </tr>\n",
       "    <tr>\n",
       "      <th>2009-01-01 05:00:00</th>\n",
       "      <td>-9.63</td>\n",
       "      <td>1.230786e+09</td>\n",
       "      <td>0.965926</td>\n",
       "      <td>0.258819</td>\n",
       "      <td>0.012916</td>\n",
       "      <td>0.999917</td>\n",
       "    </tr>\n",
       "  </tbody>\n",
       "</table>\n",
       "</div>"
      ],
      "text/plain": [
       "                     Temperature       Seconds   Day sin   Day cos  Year sin  \\\n",
       "Date Time                                                                      \n",
       "2009-01-01 01:00:00        -8.05  1.230772e+09  0.258819  0.965926  0.010049   \n",
       "2009-01-01 02:00:00        -8.88  1.230775e+09  0.500000  0.866025  0.010766   \n",
       "2009-01-01 03:00:00        -8.81  1.230779e+09  0.707107  0.707107  0.011483   \n",
       "2009-01-01 04:00:00        -9.05  1.230782e+09  0.866025  0.500000  0.012199   \n",
       "2009-01-01 05:00:00        -9.63  1.230786e+09  0.965926  0.258819  0.012916   \n",
       "\n",
       "                     Year cos  \n",
       "Date Time                      \n",
       "2009-01-01 01:00:00  0.999950  \n",
       "2009-01-01 02:00:00  0.999942  \n",
       "2009-01-01 03:00:00  0.999934  \n",
       "2009-01-01 04:00:00  0.999926  \n",
       "2009-01-01 05:00:00  0.999917  "
      ]
     },
     "execution_count": 23,
     "metadata": {},
     "output_type": "execute_result"
    }
   ],
   "source": [
    "day = 60*60*24 # number of seconds in a day\n",
    "year = 365.2425*day #Year\n",
    "\n",
    "# Add a new df,converting period signals to sin and cos signals forday and year\n",
    "\n",
    "temp_df['Day sin'] = np.sin(temp_df['Seconds'] * (2* np.pi / day))\n",
    "temp_df['Day cos'] = np.cos(temp_df['Seconds'] * (2 * np.pi / day))\n",
    "temp_df['Year sin'] = np.sin(temp_df['Seconds'] * (2 * np.pi / year))\n",
    "temp_df['Year cos'] = np.cos(temp_df['Seconds'] * (2 * np.pi / year))\n",
    "temp_df.head()"
   ]
  },
  {
   "cell_type": "markdown",
   "metadata": {},
   "source": [
    "day and year are defined as the number of seconds in a day and a year, respectively.\n",
    "New columns ('Day sin', 'Day cos', 'Year sin', 'Year cos') are added to temp_df.\n",
    "These new columns contain sine and cosine transformations of the 'Seconds' column, representing the periodicity of the day and year."
   ]
  },
  {
   "cell_type": "code",
   "execution_count": 24,
   "metadata": {},
   "outputs": [
    {
     "data": {
      "text/html": [
       "<div>\n",
       "<style scoped>\n",
       "    .dataframe tbody tr th:only-of-type {\n",
       "        vertical-align: middle;\n",
       "    }\n",
       "\n",
       "    .dataframe tbody tr th {\n",
       "        vertical-align: top;\n",
       "    }\n",
       "\n",
       "    .dataframe thead th {\n",
       "        text-align: right;\n",
       "    }\n",
       "</style>\n",
       "<table border=\"1\" class=\"dataframe\">\n",
       "  <thead>\n",
       "    <tr style=\"text-align: right;\">\n",
       "      <th></th>\n",
       "      <th>Temperature</th>\n",
       "      <th>Day sin</th>\n",
       "      <th>Day cos</th>\n",
       "      <th>Year sin</th>\n",
       "      <th>Year cos</th>\n",
       "    </tr>\n",
       "    <tr>\n",
       "      <th>Date Time</th>\n",
       "      <th></th>\n",
       "      <th></th>\n",
       "      <th></th>\n",
       "      <th></th>\n",
       "      <th></th>\n",
       "    </tr>\n",
       "  </thead>\n",
       "  <tbody>\n",
       "    <tr>\n",
       "      <th>2009-01-01 01:00:00</th>\n",
       "      <td>-8.05</td>\n",
       "      <td>0.258819</td>\n",
       "      <td>0.965926</td>\n",
       "      <td>0.010049</td>\n",
       "      <td>0.999950</td>\n",
       "    </tr>\n",
       "    <tr>\n",
       "      <th>2009-01-01 02:00:00</th>\n",
       "      <td>-8.88</td>\n",
       "      <td>0.500000</td>\n",
       "      <td>0.866025</td>\n",
       "      <td>0.010766</td>\n",
       "      <td>0.999942</td>\n",
       "    </tr>\n",
       "    <tr>\n",
       "      <th>2009-01-01 03:00:00</th>\n",
       "      <td>-8.81</td>\n",
       "      <td>0.707107</td>\n",
       "      <td>0.707107</td>\n",
       "      <td>0.011483</td>\n",
       "      <td>0.999934</td>\n",
       "    </tr>\n",
       "    <tr>\n",
       "      <th>2009-01-01 04:00:00</th>\n",
       "      <td>-9.05</td>\n",
       "      <td>0.866025</td>\n",
       "      <td>0.500000</td>\n",
       "      <td>0.012199</td>\n",
       "      <td>0.999926</td>\n",
       "    </tr>\n",
       "    <tr>\n",
       "      <th>2009-01-01 05:00:00</th>\n",
       "      <td>-9.63</td>\n",
       "      <td>0.965926</td>\n",
       "      <td>0.258819</td>\n",
       "      <td>0.012916</td>\n",
       "      <td>0.999917</td>\n",
       "    </tr>\n",
       "  </tbody>\n",
       "</table>\n",
       "</div>"
      ],
      "text/plain": [
       "                     Temperature   Day sin   Day cos  Year sin  Year cos\n",
       "Date Time                                                               \n",
       "2009-01-01 01:00:00        -8.05  0.258819  0.965926  0.010049  0.999950\n",
       "2009-01-01 02:00:00        -8.88  0.500000  0.866025  0.010766  0.999942\n",
       "2009-01-01 03:00:00        -8.81  0.707107  0.707107  0.011483  0.999934\n",
       "2009-01-01 04:00:00        -9.05  0.866025  0.500000  0.012199  0.999926\n",
       "2009-01-01 05:00:00        -9.63  0.965926  0.258819  0.012916  0.999917"
      ]
     },
     "execution_count": 24,
     "metadata": {},
     "output_type": "execute_result"
    }
   ],
   "source": [
    "# Now drop seconds since it does not loop around but is ever increasing\n",
    "temp_df = temp_df.drop('Seconds', axis=1)\n",
    "temp_df.head()"
   ]
  },
  {
   "cell_type": "markdown",
   "metadata": {},
   "source": [
    "day and year are defined as the number of seconds in a day and a year, respectively.\n",
    "New columns ('Day sin', 'Day cos', 'Year sin', 'Year cos') are added to temp_df.\n",
    "These new columns contain sine and cosine transformations of the 'Seconds' column, representing the periodicity of the day and year."
   ]
  },
  {
   "cell_type": "code",
   "execution_count": 25,
   "metadata": {},
   "outputs": [],
   "source": [
    "def df_to_X_y2(df, window_size=6):\n",
    "  # Convert the DataFrame to a NumPy array\n",
    "  df_as_np = df.to_numpy()\n",
    "  X = []  # List to store input features\n",
    "  y = []  # List to store labels\n",
    "\n",
    "  # Iterate through the DataFrame array up to (len - window_size) to create input-output pairs\n",
    "  for i in range(len(df_as_np)-window_size):\n",
    "    # Extract a window of rows from the DataFrame as an input feature\n",
    "    row = [r for r in df_as_np[i:i+window_size]]\n",
    "    X.append(row)\n",
    "    \n",
    "    # Extract the label from the next row after the window\n",
    "    label = df_as_np[i+window_size][0]\n",
    "    y.append(label)\n",
    "  \n",
    "  # Convert the lists to NumPy arrays and return\n",
    "  return np.array(X), np.array(y)"
   ]
  },
  {
   "cell_type": "code",
   "execution_count": 26,
   "metadata": {},
   "outputs": [
    {
     "data": {
      "text/plain": [
       "((70085, 6, 5), (70085,))"
      ]
     },
     "execution_count": 26,
     "metadata": {},
     "output_type": "execute_result"
    }
   ],
   "source": [
    "# Call the df_to_X_y2 function to convert temp_df into input features (X2) and labels (y2)\n",
    "X2, y2 = df_to_X_y2(temp_df)\n",
    "\n",
    "# Print the shapes of the resulting arrays\n",
    "X2.shape, y2.shape"
   ]
  },
  {
   "cell_type": "markdown",
   "metadata": {},
   "source": [
    "X2 has a shape of (70085, 6, 5), indicating it's a 3D array with 70085 samples, each containing a window of 6 rows and 5 columns.\n",
    "y2 has a shape of (70085,), representing the labels corresponding to each sample in X2.\n",
    "This code is preparing input-output pairs (X2 and y2) for a machine learning model, where X2 is a window of historical data, and y2 is the label to predict."
   ]
  },
  {
   "cell_type": "code",
   "execution_count": 27,
   "metadata": {},
   "outputs": [
    {
     "data": {
      "text/plain": [
       "((60000, 6, 5), (60000,), (5000, 6, 5), (5000,), (5085, 6, 5), (5085,))"
      ]
     },
     "execution_count": 27,
     "metadata": {},
     "output_type": "execute_result"
    }
   ],
   "source": [
    "# Split the model\n",
    "X2_train, y2_train = X2[:60000], y2[:60000]\n",
    "X2_val, y2_val = X2[60000:65000], y2[60000:65000]\n",
    "X2_test, y2_test = X2[65000:], y2[65000:]\n",
    "X2_train.shape, y2_train.shape, X2_val.shape, y2_val.shape, X2_test.shape, y2_test.shape"
   ]
  },
  {
   "cell_type": "code",
   "execution_count": null,
   "metadata": {},
   "outputs": [],
   "source": []
  },
  {
   "cell_type": "code",
   "execution_count": 28,
   "metadata": {},
   "outputs": [],
   "source": [
    "# Standardise\n",
    "temp_training_mean = np.mean(X2_train[:, :, 0])\n",
    "temp_training_std = np.std(X2_train[:, :, 0])\n",
    "\n",
    "# Define a preprocessing function to standardize the first column of the input features                          \n",
    "def preprocess(X):\n",
    "  X[:, :, 0] = (X[:, :, 0] - temp_training_mean) / temp_training_std\n",
    "  return X"
   ]
  },
  {
   "cell_type": "markdown",
   "metadata": {},
   "source": [
    "the code aims to standardize the first column of the input features (X2_train) using the mean and standard deviation calculated from the training data. The preprocess function is designed to perform this standardization and is applied to the input features before they are used in a machine learning model.\n",
    "\n",
    "temp_training_mean: Calculate the mean of the first column of the training data (X2_train[:, :, 0]).\n",
    "temp_training_std: Calculate the standard deviation of the first column of the training data.\n",
    "preprocess(X): A function that standardizes the first column of the input features by subtracting the mean and dividing by the standard deviation.\n",
    "This standardization process helps ensure that the input data has a consistent scale, which can be important for certain machine learning algorithms."
   ]
  },
  {
   "cell_type": "code",
   "execution_count": 29,
   "metadata": {},
   "outputs": [
    {
     "data": {
      "text/plain": [
       "array([[[ 1.04009706e+00, -9.65925826e-01,  2.58819045e-01,\n",
       "          5.22877889e-01, -8.52407598e-01],\n",
       "        [ 9.90732794e-01, -8.66025404e-01,  5.00000000e-01,\n",
       "          5.22266764e-01, -8.52782169e-01],\n",
       "        [ 8.49692028e-01, -7.07106781e-01,  7.07106781e-01,\n",
       "          5.21655371e-01, -8.53156301e-01],\n",
       "        [ 7.55664851e-01, -5.00000000e-01,  8.66025404e-01,\n",
       "          5.21043709e-01, -8.53529995e-01],\n",
       "        [ 6.66339032e-01, -2.58819045e-01,  9.65925826e-01,\n",
       "          5.20431780e-01, -8.53903251e-01],\n",
       "        [ 5.37051663e-01, -7.16474371e-12,  1.00000000e+00,\n",
       "          5.19819584e-01, -8.54276068e-01]],\n",
       "\n",
       "       [[ 9.90732794e-01, -8.66025404e-01,  5.00000000e-01,\n",
       "          5.22266764e-01, -8.52782169e-01],\n",
       "        [ 8.49692028e-01, -7.07106781e-01,  7.07106781e-01,\n",
       "          5.21655371e-01, -8.53156301e-01],\n",
       "        [ 7.55664851e-01, -5.00000000e-01,  8.66025404e-01,\n",
       "          5.21043709e-01, -8.53529995e-01],\n",
       "        [ 6.66339032e-01, -2.58819045e-01,  9.65925826e-01,\n",
       "          5.20431780e-01, -8.53903251e-01],\n",
       "        [ 5.37051663e-01, -7.16474371e-12,  1.00000000e+00,\n",
       "          5.19819584e-01, -8.54276068e-01],\n",
       "        [ 4.74758658e-01,  2.58819045e-01,  9.65925826e-01,\n",
       "          5.19207120e-01, -8.54648446e-01]],\n",
       "\n",
       "       [[ 8.49692028e-01, -7.07106781e-01,  7.07106781e-01,\n",
       "          5.21655371e-01, -8.53156301e-01],\n",
       "        [ 7.55664851e-01, -5.00000000e-01,  8.66025404e-01,\n",
       "          5.21043709e-01, -8.53529995e-01],\n",
       "        [ 6.66339032e-01, -2.58819045e-01,  9.65925826e-01,\n",
       "          5.20431780e-01, -8.53903251e-01],\n",
       "        [ 5.37051663e-01, -7.16474371e-12,  1.00000000e+00,\n",
       "          5.19819584e-01, -8.54276068e-01],\n",
       "        [ 4.74758658e-01,  2.58819045e-01,  9.65925826e-01,\n",
       "          5.19207120e-01, -8.54648446e-01],\n",
       "        [ 4.12465653e-01,  5.00000000e-01,  8.66025404e-01,\n",
       "          5.18594390e-01, -8.55020385e-01]],\n",
       "\n",
       "       ...,\n",
       "\n",
       "       [[-5.23104762e-01, -7.37277337e-01, -6.75590208e-01,\n",
       "          4.03308458e-03,  9.99991867e-01],\n",
       "        [-8.20465711e-01, -8.87010833e-01, -4.61748613e-01,\n",
       "          4.74986003e-03,  9.99988719e-01],\n",
       "        [-9.55629779e-01, -9.76296007e-01, -2.16439614e-01,\n",
       "          5.46663304e-03,  9.99985058e-01],\n",
       "        [-1.15661287e+00, -9.99048222e-01,  4.36193874e-02,\n",
       "          6.18340325e-03,  9.99980883e-01],\n",
       "        [-1.22243189e+00, -9.53716951e-01,  3.00705799e-01,\n",
       "          6.90017027e-03,  9.99976194e-01],\n",
       "        [-1.27179616e+00, -8.43391446e-01,  5.37299608e-01,\n",
       "          7.61693375e-03,  9.99970991e-01]],\n",
       "\n",
       "       [[-8.20465711e-01, -8.87010833e-01, -4.61748613e-01,\n",
       "          4.74986003e-03,  9.99988719e-01],\n",
       "        [-9.55629779e-01, -9.76296007e-01, -2.16439614e-01,\n",
       "          5.46663304e-03,  9.99985058e-01],\n",
       "        [-1.15661287e+00, -9.99048222e-01,  4.36193874e-02,\n",
       "          6.18340325e-03,  9.99980883e-01],\n",
       "        [-1.22243189e+00, -9.53716951e-01,  3.00705799e-01,\n",
       "          6.90017027e-03,  9.99976194e-01],\n",
       "        [-1.27179616e+00, -8.43391446e-01,  5.37299608e-01,\n",
       "          7.61693375e-03,  9.99970991e-01],\n",
       "        [-1.43046702e+00, -6.75590208e-01,  7.37277337e-01,\n",
       "          8.33369332e-03,  9.99965274e-01]],\n",
       "\n",
       "       [[-9.55629779e-01, -9.76296007e-01, -2.16439614e-01,\n",
       "          5.46663304e-03,  9.99985058e-01],\n",
       "        [-1.15661287e+00, -9.99048222e-01,  4.36193874e-02,\n",
       "          6.18340325e-03,  9.99980883e-01],\n",
       "        [-1.22243189e+00, -9.53716951e-01,  3.00705799e-01,\n",
       "          6.90017027e-03,  9.99976194e-01],\n",
       "        [-1.27179616e+00, -8.43391446e-01,  5.37299608e-01,\n",
       "          7.61693375e-03,  9.99970991e-01],\n",
       "        [-1.43046702e+00, -6.75590208e-01,  7.37277337e-01,\n",
       "          8.33369332e-03,  9.99965274e-01],\n",
       "        [-1.44692178e+00, -4.61748613e-01,  8.87010833e-01,\n",
       "          9.05044860e-03,  9.99959044e-01]]])"
      ]
     },
     "execution_count": 29,
     "metadata": {},
     "output_type": "execute_result"
    }
   ],
   "source": [
    "# The result of this code is the standardized input features for each dataset, \n",
    "# which are then ready to be used in a machine learning model.\n",
    "\n",
    "preprocess(X2_train)  # Standardize the first column of the input features for training data\n",
    "preprocess(X2_val)    # Standardize the first column of the input features for validation data\n",
    "preprocess(X2_test)   # Standardize the first column of the input features for test data\n"
   ]
  },
  {
   "cell_type": "code",
   "execution_count": null,
   "metadata": {},
   "outputs": [],
   "source": []
  },
  {
   "cell_type": "markdown",
   "metadata": {},
   "source": [
    "#### Make the LSTM model"
   ]
  },
  {
   "cell_type": "code",
   "execution_count": 30,
   "metadata": {},
   "outputs": [
    {
     "name": "stdout",
     "output_type": "stream",
     "text": [
      "Model: \"sequential_1\"\n",
      "_________________________________________________________________\n",
      " Layer (type)                Output Shape              Param #   \n",
      "=================================================================\n",
      " lstm_1 (LSTM)               (None, 64)                17920     \n",
      "                                                                 \n",
      " dense_2 (Dense)             (None, 8)                 520       \n",
      "                                                                 \n",
      " dense_3 (Dense)             (None, 1)                 9         \n",
      "                                                                 \n",
      "=================================================================\n",
      "Total params: 18449 (72.07 KB)\n",
      "Trainable params: 18449 (72.07 KB)\n",
      "Non-trainable params: 0 (0.00 Byte)\n",
      "_________________________________________________________________\n"
     ]
    }
   ],
   "source": [
    "# Make the LSTM model\n",
    "model2 = Sequential()  # Create a sequential model\n",
    "model2.add(InputLayer((6, 5)))  # Add an input layer with the shape (6, 5)\n",
    "model2.add(LSTM(64))  # Add an LSTM layer with 64 units\n",
    "model2.add(Dense(8, activation='relu'))  # Add a dense layer with 8 units and ReLU activation function\n",
    "model2.add(Dense(1, activation='linear'))  # Add a dense layer with 1 unit and linear activation function\n",
    "\n",
    "model2.summary()  # Display the summary of the model"
   ]
  },
  {
   "cell_type": "code",
   "execution_count": 31,
   "metadata": {},
   "outputs": [],
   "source": [
    "# ModelCheckpoint callback to save the best model during training\n",
    "cp2 = ModelCheckpoint('model2/', save_best_only=True)\n",
    "\n",
    "# Compile the LSTM model\n",
    "model2.compile(\n",
    "    loss=MeanSquaredError(),            # Mean Squared Error is used as the loss function\n",
    "    optimizer=Adam(learning_rate=0.0001),  # Adam optimizer with a learning rate of 0.0001 is used\n",
    "    metrics=[RootMeanSquaredError()]    # Root Mean Squared Error is used as an additional metric\n",
    ")"
   ]
  },
  {
   "cell_type": "code",
   "execution_count": 32,
   "metadata": {},
   "outputs": [
    {
     "name": "stdout",
     "output_type": "stream",
     "text": [
      "Epoch 1/10\n",
      "1871/1875 [============================>.] - ETA: 0s - loss: 39.5215 - root_mean_squared_error: 6.2866INFO:tensorflow:Assets written to: model2\\assets\n"
     ]
    },
    {
     "name": "stderr",
     "output_type": "stream",
     "text": [
      "INFO:tensorflow:Assets written to: model2\\assets\n"
     ]
    },
    {
     "name": "stdout",
     "output_type": "stream",
     "text": [
      "1875/1875 [==============================] - 14s 6ms/step - loss: 39.4553 - root_mean_squared_error: 6.2813 - val_loss: 4.0008 - val_root_mean_squared_error: 2.0002\n",
      "Epoch 2/10\n",
      "1865/1875 [============================>.] - ETA: 0s - loss: 4.9239 - root_mean_squared_error: 2.2190INFO:tensorflow:Assets written to: model2\\assets\n"
     ]
    },
    {
     "name": "stderr",
     "output_type": "stream",
     "text": [
      "INFO:tensorflow:Assets written to: model2\\assets\n"
     ]
    },
    {
     "name": "stdout",
     "output_type": "stream",
     "text": [
      "1875/1875 [==============================] - 11s 6ms/step - loss: 4.9160 - root_mean_squared_error: 2.2172 - val_loss: 1.7913 - val_root_mean_squared_error: 1.3384\n",
      "Epoch 3/10\n",
      "1870/1875 [============================>.] - ETA: 0s - loss: 1.9630 - root_mean_squared_error: 1.4011INFO:tensorflow:Assets written to: model2\\assets\n"
     ]
    },
    {
     "name": "stderr",
     "output_type": "stream",
     "text": [
      "INFO:tensorflow:Assets written to: model2\\assets\n"
     ]
    },
    {
     "name": "stdout",
     "output_type": "stream",
     "text": [
      "1875/1875 [==============================] - 13s 7ms/step - loss: 1.9609 - root_mean_squared_error: 1.4003 - val_loss: 0.9441 - val_root_mean_squared_error: 0.9716\n",
      "Epoch 4/10\n",
      "1863/1875 [============================>.] - ETA: 0s - loss: 1.0679 - root_mean_squared_error: 1.0334INFO:tensorflow:Assets written to: model2\\assets\n"
     ]
    },
    {
     "name": "stderr",
     "output_type": "stream",
     "text": [
      "INFO:tensorflow:Assets written to: model2\\assets\n"
     ]
    },
    {
     "name": "stdout",
     "output_type": "stream",
     "text": [
      "1875/1875 [==============================] - 13s 7ms/step - loss: 1.0670 - root_mean_squared_error: 1.0329 - val_loss: 0.7166 - val_root_mean_squared_error: 0.8465\n",
      "Epoch 5/10\n",
      "1874/1875 [============================>.] - ETA: 0s - loss: 0.8240 - root_mean_squared_error: 0.9078INFO:tensorflow:Assets written to: model2\\assets\n"
     ]
    },
    {
     "name": "stderr",
     "output_type": "stream",
     "text": [
      "INFO:tensorflow:Assets written to: model2\\assets\n"
     ]
    },
    {
     "name": "stdout",
     "output_type": "stream",
     "text": [
      "1875/1875 [==============================] - 11s 6ms/step - loss: 0.8240 - root_mean_squared_error: 0.9078 - val_loss: 0.6084 - val_root_mean_squared_error: 0.7800\n",
      "Epoch 6/10\n",
      "1870/1875 [============================>.] - ETA: 0s - loss: 0.6805 - root_mean_squared_error: 0.8249INFO:tensorflow:Assets written to: model2\\assets\n"
     ]
    },
    {
     "name": "stderr",
     "output_type": "stream",
     "text": [
      "INFO:tensorflow:Assets written to: model2\\assets\n"
     ]
    },
    {
     "name": "stdout",
     "output_type": "stream",
     "text": [
      "1875/1875 [==============================] - 12s 6ms/step - loss: 0.6799 - root_mean_squared_error: 0.8245 - val_loss: 0.4883 - val_root_mean_squared_error: 0.6988\n",
      "Epoch 7/10\n",
      "1865/1875 [============================>.] - ETA: 0s - loss: 0.5939 - root_mean_squared_error: 0.7706INFO:tensorflow:Assets written to: model2\\assets\n"
     ]
    },
    {
     "name": "stderr",
     "output_type": "stream",
     "text": [
      "INFO:tensorflow:Assets written to: model2\\assets\n"
     ]
    },
    {
     "name": "stdout",
     "output_type": "stream",
     "text": [
      "1875/1875 [==============================] - 14s 7ms/step - loss: 0.5938 - root_mean_squared_error: 0.7706 - val_loss: 0.4477 - val_root_mean_squared_error: 0.6691\n",
      "Epoch 8/10\n",
      "1875/1875 [==============================] - ETA: 0s - loss: 0.5529 - root_mean_squared_error: 0.7436INFO:tensorflow:Assets written to: model2\\assets\n"
     ]
    },
    {
     "name": "stderr",
     "output_type": "stream",
     "text": [
      "INFO:tensorflow:Assets written to: model2\\assets\n"
     ]
    },
    {
     "name": "stdout",
     "output_type": "stream",
     "text": [
      "1875/1875 [==============================] - 12s 6ms/step - loss: 0.5529 - root_mean_squared_error: 0.7436 - val_loss: 0.4291 - val_root_mean_squared_error: 0.6550\n",
      "Epoch 9/10\n",
      "1875/1875 [==============================] - 9s 5ms/step - loss: 0.5382 - root_mean_squared_error: 0.7336 - val_loss: 0.4319 - val_root_mean_squared_error: 0.6572\n",
      "Epoch 10/10\n",
      "1874/1875 [============================>.] - ETA: 0s - loss: 0.5313 - root_mean_squared_error: 0.7289INFO:tensorflow:Assets written to: model2\\assets\n"
     ]
    },
    {
     "name": "stderr",
     "output_type": "stream",
     "text": [
      "INFO:tensorflow:Assets written to: model2\\assets\n"
     ]
    },
    {
     "name": "stdout",
     "output_type": "stream",
     "text": [
      "\b\b\b\b\b\b\b\b\b\b\b\b\b\b\b\b\b\b\b\b\b\b\b\b\b\b\b\b\b\b\b\b\b\b\b\b\b\b\b\b\b\b\b\b\b\b\b\b\b\b\b\b\b\b\b\b\b\b\b\b\b\b\b\b\b\b\b\b\b\b\b\b\b\b\b\b\b\b\b\b\b\b\b\b\b\b\b\b\b\b\b\b\b\b\b\b\b\b\b\b\b\r",
      "1875/1875 [==============================] - 14s 7ms/step - loss: 0.5314 - root_mean_squared_error: 0.7290 - val_loss: 0.4148 - val_root_mean_squared_error: 0.6441\n"
     ]
    },
    {
     "data": {
      "text/plain": [
       "<keras.src.callbacks.History at 0x23f5f0af700>"
      ]
     },
     "execution_count": 32,
     "metadata": {},
     "output_type": "execute_result"
    }
   ],
   "source": [
    "# Train the LSTM model on the provided training data (X2_train, y2_train) for 10 epochs\n",
    "model2.fit(X2_train, y2_train, validation_data=(X2_val, y2_val), epochs=10, callbacks=[cp2])"
   ]
  },
  {
   "cell_type": "code",
   "execution_count": 33,
   "metadata": {},
   "outputs": [
    {
     "name": "stdout",
     "output_type": "stream",
     "text": [
      "159/159 [==============================] - 2s 5ms/step\n"
     ]
    },
    {
     "data": {
      "text/plain": [
       "(      Predictions  Actuals\n",
       " 0       13.093096    13.46\n",
       " 1       12.693088    12.93\n",
       " 2       12.281884    12.43\n",
       " 3       11.995519    12.17\n",
       " 4       12.130725    11.55\n",
       " ...           ...      ...\n",
       " 5080    -0.881674    -0.98\n",
       " 5081    -1.237651    -1.40\n",
       " 5082    -1.594560    -2.75\n",
       " 5083    -2.979640    -2.89\n",
       " 5084    -2.951160    -3.93\n",
       " \n",
       " [5085 rows x 2 columns],\n",
       " 0.4956456927892145)"
      ]
     },
     "execution_count": 33,
     "metadata": {},
     "output_type": "execute_result"
    },
    {
     "data": {
      "image/png": "[encoded data removed]",
      "text/plain": [
       "<Figure size 432x288 with 1 Axes>"
      ]
     },
     "metadata": {
      "needs_background": "light"
     },
     "output_type": "display_data"
    }
   ],
   "source": [
    "plot_predictions1(model2, X2_test, y2_test)"
   ]
  },
  {
   "cell_type": "code",
   "execution_count": null,
   "metadata": {},
   "outputs": [],
   "source": []
  },
  {
   "cell_type": "code",
   "execution_count": null,
   "metadata": {},
   "outputs": [],
   "source": []
  },
  {
   "cell_type": "code",
   "execution_count": null,
   "metadata": {},
   "outputs": [],
   "source": []
  },
  {
   "cell_type": "markdown",
   "metadata": {},
   "source": [
    "## Multivariate Forecasting"
   ]
  },
  {
   "cell_type": "markdown",
   "metadata": {
    "id": "DS82YKWJZ3NT"
   },
   "source": [
    "### we are going to add pressure and try to predict it"
   ]
  },
  {
   "cell_type": "code",
   "execution_count": 34,
   "metadata": {
    "colab": {
     "base_uri": "https://localhost:8080/",
     "height": 236
    },
    "id": "FpOwEbBttY8C",
    "outputId": "04c3daf4-fbc8-41ac-a69f-cc7ee32ed5df"
   },
   "outputs": [
    {
     "data": {
      "text/html": [
       "<div>\n",
       "<style scoped>\n",
       "    .dataframe tbody tr th:only-of-type {\n",
       "        vertical-align: middle;\n",
       "    }\n",
       "\n",
       "    .dataframe tbody tr th {\n",
       "        vertical-align: top;\n",
       "    }\n",
       "\n",
       "    .dataframe thead th {\n",
       "        text-align: right;\n",
       "    }\n",
       "</style>\n",
       "<table border=\"1\" class=\"dataframe\">\n",
       "  <thead>\n",
       "    <tr style=\"text-align: right;\">\n",
       "      <th></th>\n",
       "      <th>p (mbar)</th>\n",
       "      <th>Temperature</th>\n",
       "      <th>Day sin</th>\n",
       "      <th>Day cos</th>\n",
       "      <th>Year sin</th>\n",
       "      <th>Year cos</th>\n",
       "    </tr>\n",
       "    <tr>\n",
       "      <th>Date Time</th>\n",
       "      <th></th>\n",
       "      <th></th>\n",
       "      <th></th>\n",
       "      <th></th>\n",
       "      <th></th>\n",
       "      <th></th>\n",
       "    </tr>\n",
       "  </thead>\n",
       "  <tbody>\n",
       "    <tr>\n",
       "      <th>2009-01-01 01:00:00</th>\n",
       "      <td>996.50</td>\n",
       "      <td>-8.05</td>\n",
       "      <td>0.258819</td>\n",
       "      <td>0.965926</td>\n",
       "      <td>0.010049</td>\n",
       "      <td>0.999950</td>\n",
       "    </tr>\n",
       "    <tr>\n",
       "      <th>2009-01-01 02:00:00</th>\n",
       "      <td>996.62</td>\n",
       "      <td>-8.88</td>\n",
       "      <td>0.500000</td>\n",
       "      <td>0.866025</td>\n",
       "      <td>0.010766</td>\n",
       "      <td>0.999942</td>\n",
       "    </tr>\n",
       "    <tr>\n",
       "      <th>2009-01-01 03:00:00</th>\n",
       "      <td>996.84</td>\n",
       "      <td>-8.81</td>\n",
       "      <td>0.707107</td>\n",
       "      <td>0.707107</td>\n",
       "      <td>0.011483</td>\n",
       "      <td>0.999934</td>\n",
       "    </tr>\n",
       "    <tr>\n",
       "      <th>2009-01-01 04:00:00</th>\n",
       "      <td>996.99</td>\n",
       "      <td>-9.05</td>\n",
       "      <td>0.866025</td>\n",
       "      <td>0.500000</td>\n",
       "      <td>0.012199</td>\n",
       "      <td>0.999926</td>\n",
       "    </tr>\n",
       "    <tr>\n",
       "      <th>2009-01-01 05:00:00</th>\n",
       "      <td>997.46</td>\n",
       "      <td>-9.63</td>\n",
       "      <td>0.965926</td>\n",
       "      <td>0.258819</td>\n",
       "      <td>0.012916</td>\n",
       "      <td>0.999917</td>\n",
       "    </tr>\n",
       "  </tbody>\n",
       "</table>\n",
       "</div>"
      ],
      "text/plain": [
       "                     p (mbar)  Temperature   Day sin   Day cos  Year sin  \\\n",
       "Date Time                                                                  \n",
       "2009-01-01 01:00:00    996.50        -8.05  0.258819  0.965926  0.010049   \n",
       "2009-01-01 02:00:00    996.62        -8.88  0.500000  0.866025  0.010766   \n",
       "2009-01-01 03:00:00    996.84        -8.81  0.707107  0.707107  0.011483   \n",
       "2009-01-01 04:00:00    996.99        -9.05  0.866025  0.500000  0.012199   \n",
       "2009-01-01 05:00:00    997.46        -9.63  0.965926  0.258819  0.012916   \n",
       "\n",
       "                     Year cos  \n",
       "Date Time                      \n",
       "2009-01-01 01:00:00  0.999950  \n",
       "2009-01-01 02:00:00  0.999942  \n",
       "2009-01-01 03:00:00  0.999934  \n",
       "2009-01-01 04:00:00  0.999926  \n",
       "2009-01-01 05:00:00  0.999917  "
      ]
     },
     "execution_count": 34,
     "metadata": {},
     "output_type": "execute_result"
    }
   ],
   "source": [
    "# contatenate temperature and pressure\n",
    "p_temp_df = pd.concat([df['p (mbar)'], temp_df], axis=1)\n",
    "p_temp_df.head()"
   ]
  },
  {
   "cell_type": "code",
   "execution_count": null,
   "metadata": {
    "id": "BZ-Hoj9DZ3NU"
   },
   "outputs": [],
   "source": []
  },
  {
   "cell_type": "code",
   "execution_count": 35,
   "metadata": {
    "id": "7EViSFyntz9j"
   },
   "outputs": [],
   "source": [
    "# window making function\n",
    "def df_to_X_y3(df, window_size=7):\n",
    "  df_as_np = df.to_numpy()\n",
    "  X = []\n",
    "  y = []\n",
    "  for i in range(len(df_as_np)-window_size):\n",
    "    row = [r for r in df_as_np[i:i+window_size]]\n",
    "    X.append(row)\n",
    "    label = [df_as_np[i+window_size][0], df_as_np[i+window_size][1]]\n",
    "    y.append(label)\n",
    "  return np.array(X), np.array(y)"
   ]
  },
  {
   "cell_type": "code",
   "execution_count": 36,
   "metadata": {
    "colab": {
     "base_uri": "https://localhost:8080/"
    },
    "id": "M6iv-AUQuJdX",
    "outputId": "c5d6aafb-a91e-4d2e-fd07-90734fcad509"
   },
   "outputs": [
    {
     "data": {
      "text/plain": [
       "((70084, 7, 6), (70084, 2))"
      ]
     },
     "execution_count": 36,
     "metadata": {},
     "output_type": "execute_result"
    }
   ],
   "source": [
    "X3, y3 = df_to_X_y3(p_temp_df)\n",
    "X3.shape, y3.shape   "
   ]
  },
  {
   "cell_type": "markdown",
   "metadata": {
    "id": "6CvqP2rrZ3NW"
   },
   "source": [
    "7 is the no of hrs( window length), 6 is the training variables, 2 is temp and pressure|"
   ]
  },
  {
   "cell_type": "code",
   "execution_count": 37,
   "metadata": {
    "colab": {
     "base_uri": "https://localhost:8080/"
    },
    "id": "JAaiWt0buKa4",
    "outputId": "9e431fbf-f8b8-4dc4-932b-d3242d2ab266"
   },
   "outputs": [
    {
     "data": {
      "text/plain": [
       "((60000, 7, 6), (60000, 2), (5000, 7, 6), (5000, 2), (5084, 7, 6), (5084, 2))"
      ]
     },
     "execution_count": 37,
     "metadata": {},
     "output_type": "execute_result"
    }
   ],
   "source": [
    "# Split the model\n",
    "X3_train, y3_train = X3[:60000], y3[:60000]\n",
    "X3_val, y3_val = X3[60000:65000], y3[60000:65000]\n",
    "X3_test, y3_test = X3[65000:], y3[65000:]\n",
    "X3_train.shape, y3_train.shape, X3_val.shape, y3_val.shape, X3_test.shape, y3_test.shape"
   ]
  },
  {
   "cell_type": "markdown",
   "metadata": {
    "id": "1aJZFi1qZ3NX"
   },
   "source": [
    "#### Standardizing"
   ]
  },
  {
   "cell_type": "code",
   "execution_count": 38,
   "metadata": {
    "id": "Y-1iWv_AuKSk"
   },
   "outputs": [],
   "source": [
    "# Calculate the mean and standard deviation for pressure (column 0) and temperature (column 1) separately in the training data\n",
    "p_training_mean3 = np.mean(X3_train[:, :, 0])\n",
    "p_training_std3 = np.std(X3_train[:, :, 0])\n",
    "\n",
    "temp_training_mean3 = np.mean(X3_train[:, :, 1])\n",
    "temp_training_std3 = np.std(X3_train[:, :, 1])\n",
    "\n",
    "def preprocess3(X):\n",
    "  # Standardize the pressure and temperature values in the input data using the calculated mean and standard deviation\n",
    "  X[:, :, 0] = (X[:, :, 0] - p_training_mean3) / p_training_std3\n",
    "  X[:, :, 1] = (X[:, :, 1] - temp_training_mean3) / temp_training_std3\n",
    "\n",
    "def preprocess_output3(y):\n",
    "  # Standardize the output labels (pressure and temperature) using the same mean and standard deviation values\n",
    "  y[:, 0] = (y[:, 0] - p_training_mean3) / p_training_std3\n",
    "  y[:, 1] = (y[:, 1] - temp_training_mean3) / temp_training_std3\n",
    "  return y"
   ]
  },
  {
   "cell_type": "markdown",
   "metadata": {
    "id": "ogbJYbOgZ3NY"
   },
   "source": [
    "#### Preprocess functions\n",
    "Results of the standardized input features for each dataset."
   ]
  },
  {
   "cell_type": "code",
   "execution_count": 39,
   "metadata": {
    "id": "tA3BDAuluKHO"
   },
   "outputs": [],
   "source": [
    "preprocess3(X3_train)\n",
    "preprocess3(X3_val)\n",
    "preprocess3(X3_test)"
   ]
  },
  {
   "cell_type": "code",
   "execution_count": 40,
   "metadata": {
    "colab": {
     "base_uri": "https://localhost:8080/"
    },
    "id": "nyxUc20CuJ4p",
    "outputId": "5803e53d-5ae0-4c72-ca26-9adf51b577b7"
   },
   "outputs": [
    {
     "data": {
      "text/plain": [
       "array([[-0.7934386 ,  0.41245076],\n",
       "       [-0.76312281,  0.35368268],\n",
       "       [-0.72189335,  0.32312327],\n",
       "       ...,\n",
       "       [ 1.48145784, -1.43051636],\n",
       "       [ 1.41597574, -1.44697142],\n",
       "       [ 1.35049365, -1.56920903]])"
      ]
     },
     "execution_count": 40,
     "metadata": {},
     "output_type": "execute_result"
    }
   ],
   "source": [
    "preprocess_output3(y3_train)\n",
    "preprocess_output3(y3_val)\n",
    "preprocess_output3(y3_test)"
   ]
  },
  {
   "cell_type": "markdown",
   "metadata": {
    "id": "XMuB10gsZ3NZ"
   },
   "source": [
    "#### Making a new model"
   ]
  },
  {
   "cell_type": "code",
   "execution_count": 41,
   "metadata": {
    "colab": {
     "base_uri": "https://localhost:8080/"
    },
    "id": "czHWSE2Uv4Br",
    "outputId": "7b192759-b752-4f24-9f24-cf3a089ce7df"
   },
   "outputs": [
    {
     "name": "stdout",
     "output_type": "stream",
     "text": [
      "Model: \"sequential_2\"\n",
      "_________________________________________________________________\n",
      " Layer (type)                Output Shape              Param #   \n",
      "=================================================================\n",
      " lstm_2 (LSTM)               (None, 64)                18176     \n",
      "                                                                 \n",
      " dense_4 (Dense)             (None, 8)                 520       \n",
      "                                                                 \n",
      " dense_5 (Dense)             (None, 2)                 18        \n",
      "                                                                 \n",
      "=================================================================\n",
      "Total params: 18714 (73.10 KB)\n",
      "Trainable params: 18714 (73.10 KB)\n",
      "Non-trainable params: 0 (0.00 Byte)\n",
      "_________________________________________________________________\n"
     ]
    }
   ],
   "source": [
    "# Making a new model using Sequential API\n",
    "model3 = Sequential()\n",
    "\n",
    "# Adding an input layer with shape (7, 6)\n",
    "model3.add(InputLayer((7, 6)))\n",
    "\n",
    "# Adding an LSTM layer with 64 units\n",
    "model3.add(LSTM(64))\n",
    "\n",
    "# Adding a Dense layer with 8 units and ReLU activation function\n",
    "model3.add(Dense(8, activation='relu'))\n",
    "\n",
    "# Adding a Dense layer with 2 units and linear activation function\n",
    "model3.add(Dense(2, activation='linear'))\n",
    "\n",
    "# Displaying the summary of the model\n",
    "model3.summary()"
   ]
  },
  {
   "cell_type": "code",
   "execution_count": 42,
   "metadata": {
    "id": "HY4LnQYxwDI2"
   },
   "outputs": [],
   "source": [
    "# Create a ModelCheckpoint to save the best model during training\n",
    "cp3 = ModelCheckpoint('model3/', save_best_only=True)\n",
    "\n",
    "# Compile the model using Mean Squared Error as the loss function, Adam optimizer with a learning rate of 0.0001,\n",
    "# and Root Mean Squared Error as the evaluation metric\n",
    "model3.compile(loss=MeanSquaredError(), optimizer=Adam(learning_rate=0.0001), metrics=[RootMeanSquaredError()])"
   ]
  },
  {
   "cell_type": "code",
   "execution_count": 43,
   "metadata": {
    "colab": {
     "base_uri": "https://localhost:8080/"
    },
    "id": "pR6NEXeSwF6J",
    "outputId": "63d8ef64-7125-40e9-d3ba-6e0895617e86",
    "scrolled": true
   },
   "outputs": [
    {
     "name": "stdout",
     "output_type": "stream",
     "text": [
      "Epoch 1/10\n",
      "1875/1875 [==============================] - ETA: 0s - loss: 0.1558 - root_mean_squared_error: 0.3948INFO:tensorflow:Assets written to: model3\\assets\n"
     ]
    },
    {
     "name": "stderr",
     "output_type": "stream",
     "text": [
      "INFO:tensorflow:Assets written to: model3\\assets\n"
     ]
    },
    {
     "name": "stdout",
     "output_type": "stream",
     "text": [
      "1875/1875 [==============================] - 33s 16ms/step - loss: 0.1558 - root_mean_squared_error: 0.3948 - val_loss: 0.0310 - val_root_mean_squared_error: 0.1760\n",
      "Epoch 2/10\n",
      "1873/1875 [============================>.] - ETA: 0s - loss: 0.0234 - root_mean_squared_error: 0.1529INFO:tensorflow:Assets written to: model3\\assets\n"
     ]
    },
    {
     "name": "stderr",
     "output_type": "stream",
     "text": [
      "INFO:tensorflow:Assets written to: model3\\assets\n"
     ]
    },
    {
     "name": "stdout",
     "output_type": "stream",
     "text": [
      "1875/1875 [==============================] - 22s 12ms/step - loss: 0.0234 - root_mean_squared_error: 0.1528 - val_loss: 0.0154 - val_root_mean_squared_error: 0.1242\n",
      "Epoch 3/10\n",
      "1870/1875 [============================>.] - ETA: 0s - loss: 0.0122 - root_mean_squared_error: 0.1105INFO:tensorflow:Assets written to: model3\\assets\n"
     ]
    },
    {
     "name": "stderr",
     "output_type": "stream",
     "text": [
      "INFO:tensorflow:Assets written to: model3\\assets\n"
     ]
    },
    {
     "name": "stdout",
     "output_type": "stream",
     "text": [
      "1875/1875 [==============================] - 18s 10ms/step - loss: 0.0122 - root_mean_squared_error: 0.1105 - val_loss: 0.0083 - val_root_mean_squared_error: 0.0910\n",
      "Epoch 4/10\n",
      "1874/1875 [============================>.] - ETA: 0s - loss: 0.0081 - root_mean_squared_error: 0.0898INFO:tensorflow:Assets written to: model3\\assets\n"
     ]
    },
    {
     "name": "stderr",
     "output_type": "stream",
     "text": [
      "INFO:tensorflow:Assets written to: model3\\assets\n"
     ]
    },
    {
     "name": "stdout",
     "output_type": "stream",
     "text": [
      "1875/1875 [==============================] - 20s 11ms/step - loss: 0.0081 - root_mean_squared_error: 0.0898 - val_loss: 0.0058 - val_root_mean_squared_error: 0.0761\n",
      "Epoch 5/10\n",
      "1874/1875 [============================>.] - ETA: 0s - loss: 0.0065 - root_mean_squared_error: 0.0808INFO:tensorflow:Assets written to: model3\\assets\n"
     ]
    },
    {
     "name": "stderr",
     "output_type": "stream",
     "text": [
      "INFO:tensorflow:Assets written to: model3\\assets\n"
     ]
    },
    {
     "name": "stdout",
     "output_type": "stream",
     "text": [
      "1875/1875 [==============================] - 18s 10ms/step - loss: 0.0065 - root_mean_squared_error: 0.0808 - val_loss: 0.0050 - val_root_mean_squared_error: 0.0704\n",
      "Epoch 6/10\n",
      "1865/1875 [============================>.] - ETA: 0s - loss: 0.0058 - root_mean_squared_error: 0.0761INFO:tensorflow:Assets written to: model3\\assets\n"
     ]
    },
    {
     "name": "stderr",
     "output_type": "stream",
     "text": [
      "INFO:tensorflow:Assets written to: model3\\assets\n"
     ]
    },
    {
     "name": "stdout",
     "output_type": "stream",
     "text": [
      "1875/1875 [==============================] - 16s 8ms/step - loss: 0.0058 - root_mean_squared_error: 0.0761 - val_loss: 0.0045 - val_root_mean_squared_error: 0.0670\n",
      "Epoch 7/10\n",
      "1861/1875 [============================>.] - ETA: 0s - loss: 0.0054 - root_mean_squared_error: 0.0734INFO:tensorflow:Assets written to: model3\\assets\n"
     ]
    },
    {
     "name": "stderr",
     "output_type": "stream",
     "text": [
      "INFO:tensorflow:Assets written to: model3\\assets\n"
     ]
    },
    {
     "name": "stdout",
     "output_type": "stream",
     "text": [
      "1875/1875 [==============================] - 13s 7ms/step - loss: 0.0054 - root_mean_squared_error: 0.0734 - val_loss: 0.0042 - val_root_mean_squared_error: 0.0645\n",
      "Epoch 8/10\n",
      "1865/1875 [============================>.] - ETA: 0s - loss: 0.0052 - root_mean_squared_error: 0.0719INFO:tensorflow:Assets written to: model3\\assets\n"
     ]
    },
    {
     "name": "stderr",
     "output_type": "stream",
     "text": [
      "INFO:tensorflow:Assets written to: model3\\assets\n"
     ]
    },
    {
     "name": "stdout",
     "output_type": "stream",
     "text": [
      "1875/1875 [==============================] - 12s 6ms/step - loss: 0.0052 - root_mean_squared_error: 0.0719 - val_loss: 0.0038 - val_root_mean_squared_error: 0.0619\n",
      "Epoch 9/10\n",
      "1868/1875 [============================>.] - ETA: 0s - loss: 0.0050 - root_mean_squared_error: 0.0710INFO:tensorflow:Assets written to: model3\\assets\n"
     ]
    },
    {
     "name": "stderr",
     "output_type": "stream",
     "text": [
      "INFO:tensorflow:Assets written to: model3\\assets\n"
     ]
    },
    {
     "name": "stdout",
     "output_type": "stream",
     "text": [
      "1875/1875 [==============================] - 14s 7ms/step - loss: 0.0050 - root_mean_squared_error: 0.0710 - val_loss: 0.0038 - val_root_mean_squared_error: 0.0615\n",
      "Epoch 10/10\n",
      "1875/1875 [==============================] - 13s 7ms/step - loss: 0.0050 - root_mean_squared_error: 0.0705 - val_loss: 0.0038 - val_root_mean_squared_error: 0.0620\n"
     ]
    },
    {
     "data": {
      "text/plain": [
       "<keras.src.callbacks.History at 0x23f6d89a910>"
      ]
     },
     "execution_count": 43,
     "metadata": {},
     "output_type": "execute_result"
    }
   ],
   "source": [
    "# Fitting the model to the training data for 10 epochs, validating on the validation data, and using ModelCheckpoint callback\n",
    "model3.fit(X3_train, y3_train, validation_data=(X3_val, y3_val), epochs=10, callbacks=[cp3])"
   ]
  },
  {
   "cell_type": "markdown",
   "metadata": {
    "id": "AIBdE7sSZ3Nc"
   },
   "source": [
    "#### Predictions(pressure and temp) and plotting"
   ]
  },
  {
   "cell_type": "code",
   "execution_count": 44,
   "metadata": {
    "id": "AzIN93E2xRjE"
   },
   "outputs": [],
   "source": [
    "def plot_predictions2(model, X, y, start=0, end=100):\n",
    "  # Making predictions using the input data\n",
    "  predictions = model.predict(X)\n",
    "  \n",
    "  # Extracting predicted and actual values for temperature and pressure\n",
    "  p_preds, temp_preds = predictions[:, 0], predictions[:, 1]\n",
    "  p_actuals, temp_actuals = y[:, 0], y[:, 1]\n",
    "  \n",
    "  # Creating a DataFrame to store and display the predictions and actual values\n",
    "  df = pd.DataFrame(data={'Temperature Predictions': temp_preds,\n",
    "                          'Temperature Actuals':temp_actuals,\n",
    "                          'Pressure Predictions': p_preds,\n",
    "                          'Pressure Actuals': p_actuals\n",
    "                          })\n",
    "  \n",
    "  # Plotting the temperature and pressure predictions and actual values within the specified range\n",
    "  plt.plot(df['Temperature Predictions'][start:end], label='Temperature Predictions')\n",
    "  plt.plot(df['Temperature Actuals'][start:end], label='Temperature Actuals')\n",
    "  plt.plot(df['Pressure Predictions'][start:end], label='Pressure Predictions')\n",
    "  plt.plot(df['Pressure Actuals'][start:end], label='Pressure Actuals')\n",
    "  \n",
    "  # Returning the DataFrame for further analysis if needed\n",
    "  return df[start:end]"
   ]
  },
  {
   "cell_type": "code",
   "execution_count": 45,
   "metadata": {
    "colab": {
     "base_uri": "https://localhost:8080/",
     "height": 668
    },
    "id": "QzXcewu_zy2k",
    "outputId": "0f520f7f-6aa3-4079-edf5-4c5ff4626258"
   },
   "outputs": [
    {
     "name": "stdout",
     "output_type": "stream",
     "text": [
      "159/159 [==============================] - 1s 3ms/step\n"
     ]
    },
    {
     "data": {
      "text/html": [
       "<div>\n",
       "<style scoped>\n",
       "    .dataframe tbody tr th:only-of-type {\n",
       "        vertical-align: middle;\n",
       "    }\n",
       "\n",
       "    .dataframe tbody tr th {\n",
       "        vertical-align: top;\n",
       "    }\n",
       "\n",
       "    .dataframe thead th {\n",
       "        text-align: right;\n",
       "    }\n",
       "</style>\n",
       "<table border=\"1\" class=\"dataframe\">\n",
       "  <thead>\n",
       "    <tr style=\"text-align: right;\">\n",
       "      <th></th>\n",
       "      <th>Temperature Predictions</th>\n",
       "      <th>Temperature Actuals</th>\n",
       "      <th>Pressure Predictions</th>\n",
       "      <th>Pressure Actuals</th>\n",
       "    </tr>\n",
       "  </thead>\n",
       "  <tbody>\n",
       "    <tr>\n",
       "      <th>0</th>\n",
       "      <td>0.394915</td>\n",
       "      <td>0.412451</td>\n",
       "      <td>-0.770675</td>\n",
       "      <td>-0.793439</td>\n",
       "    </tr>\n",
       "    <tr>\n",
       "      <th>1</th>\n",
       "      <td>0.351745</td>\n",
       "      <td>0.353683</td>\n",
       "      <td>-0.761016</td>\n",
       "      <td>-0.763123</td>\n",
       "    </tr>\n",
       "    <tr>\n",
       "      <th>2</th>\n",
       "      <td>0.315301</td>\n",
       "      <td>0.323123</td>\n",
       "      <td>-0.727488</td>\n",
       "      <td>-0.721893</td>\n",
       "    </tr>\n",
       "    <tr>\n",
       "      <th>3</th>\n",
       "      <td>0.319730</td>\n",
       "      <td>0.250251</td>\n",
       "      <td>-0.675293</td>\n",
       "      <td>-0.652773</td>\n",
       "    </tr>\n",
       "    <tr>\n",
       "      <th>4</th>\n",
       "      <td>0.278681</td>\n",
       "      <td>0.254952</td>\n",
       "      <td>-0.587432</td>\n",
       "      <td>-0.652773</td>\n",
       "    </tr>\n",
       "    <tr>\n",
       "      <th>...</th>\n",
       "      <td>...</td>\n",
       "      <td>...</td>\n",
       "      <td>...</td>\n",
       "      <td>...</td>\n",
       "    </tr>\n",
       "    <tr>\n",
       "      <th>95</th>\n",
       "      <td>0.685219</td>\n",
       "      <td>0.716869</td>\n",
       "      <td>-0.397875</td>\n",
       "      <td>-0.416310</td>\n",
       "    </tr>\n",
       "    <tr>\n",
       "      <th>96</th>\n",
       "      <td>0.648846</td>\n",
       "      <td>0.687485</td>\n",
       "      <td>-0.402577</td>\n",
       "      <td>-0.399333</td>\n",
       "    </tr>\n",
       "    <tr>\n",
       "      <th>97</th>\n",
       "      <td>0.636048</td>\n",
       "      <td>0.663978</td>\n",
       "      <td>-0.388477</td>\n",
       "      <td>-0.399333</td>\n",
       "    </tr>\n",
       "    <tr>\n",
       "      <th>98</th>\n",
       "      <td>0.638984</td>\n",
       "      <td>0.641646</td>\n",
       "      <td>-0.380351</td>\n",
       "      <td>-0.400546</td>\n",
       "    </tr>\n",
       "    <tr>\n",
       "      <th>99</th>\n",
       "      <td>0.651502</td>\n",
       "      <td>0.653400</td>\n",
       "      <td>-0.371565</td>\n",
       "      <td>-0.369018</td>\n",
       "    </tr>\n",
       "  </tbody>\n",
       "</table>\n",
       "<p>100 rows × 4 columns</p>\n",
       "</div>"
      ],
      "text/plain": [
       "    Temperature Predictions  Temperature Actuals  Pressure Predictions  \\\n",
       "0                  0.394915             0.412451             -0.770675   \n",
       "1                  0.351745             0.353683             -0.761016   \n",
       "2                  0.315301             0.323123             -0.727488   \n",
       "3                  0.319730             0.250251             -0.675293   \n",
       "4                  0.278681             0.254952             -0.587432   \n",
       "..                      ...                  ...                   ...   \n",
       "95                 0.685219             0.716869             -0.397875   \n",
       "96                 0.648846             0.687485             -0.402577   \n",
       "97                 0.636048             0.663978             -0.388477   \n",
       "98                 0.638984             0.641646             -0.380351   \n",
       "99                 0.651502             0.653400             -0.371565   \n",
       "\n",
       "    Pressure Actuals  \n",
       "0          -0.793439  \n",
       "1          -0.763123  \n",
       "2          -0.721893  \n",
       "3          -0.652773  \n",
       "4          -0.652773  \n",
       "..               ...  \n",
       "95         -0.416310  \n",
       "96         -0.399333  \n",
       "97         -0.399333  \n",
       "98         -0.400546  \n",
       "99         -0.369018  \n",
       "\n",
       "[100 rows x 4 columns]"
      ]
     },
     "execution_count": 45,
     "metadata": {},
     "output_type": "execute_result"
    },
    {
     "data": {
      "image/png": "[encoded data removed]",
      "text/plain": [
       "<Figure size 432x288 with 1 Axes>"
      ]
     },
     "metadata": {
      "needs_background": "light"
     },
     "output_type": "display_data"
    }
   ],
   "source": [
    "# Calling the plot_predictions2 function with the trained model and test data\n",
    "plot_predictions2(model3, X3_test, y3_test)"
   ]
  },
  {
   "cell_type": "markdown",
   "metadata": {
    "id": "EyOC4jWUZ3Ne"
   },
   "source": [
    "#### Post proccessing"
   ]
  },
  {
   "cell_type": "code",
   "execution_count": 46,
   "metadata": {
    "id": "hplJkJvI0fTf"
   },
   "outputs": [],
   "source": [
    "# Function to post-process temperature predictions\n",
    "def postprocess_temp(arr):\n",
    "    # Rescaling the temperature predictions using training mean and standard deviation\n",
    "    arr = (arr * temp_training_std3) + temp_training_mean3\n",
    "    return arr\n",
    "\n",
    "# Function to post-process pressure predictions\n",
    "def postprocess_p(arr):\n",
    "    # Rescaling the pressure predictions using training mean and standard deviation\n",
    "    arr = (arr * p_training_std3) + p_training_mean3\n",
    "    return arr"
   ]
  },
  {
   "cell_type": "code",
   "execution_count": 47,
   "metadata": {
    "id": "Jcmk5ZB21PDe"
   },
   "outputs": [],
   "source": [
    "# Defining a function to plot predictions with post-processing\n",
    "def plot_predictions2(model, X, y, start=0, end=100):\n",
    "    # Making predictions using the input data\n",
    "    predictions = model.predict(X)\n",
    "    \n",
    "    # Post-processing temperature and pressure predictions and actual values\n",
    "    p_preds, temp_preds = postprocess_p(predictions[:, 0]), postprocess_temp(predictions[:, 1])\n",
    "    p_actuals, temp_actuals = postprocess_p(y[:, 0]), postprocess_temp(y[:, 1])\n",
    "    \n",
    "    # Creating a DataFrame to store and display the post-processed predictions and actual values\n",
    "    df = pd.DataFrame(data={'Temperature Predictions': temp_preds,\n",
    "                            'Temperature Actuals': temp_actuals,\n",
    "                            'Pressure Predictions': p_preds,\n",
    "                            'Pressure Actuals': p_actuals\n",
    "                            })\n",
    "    \n",
    "    # Plotting the post-processed temperature and pressure predictions and actual values within the specified range\n",
    "    plt.plot(df['Temperature Predictions'][start:end], label='Temperature Predictions')\n",
    "    plt.plot(df['Temperature Actuals'][start:end], label='Temperature Actuals')\n",
    "    plt.plot(df['Pressure Predictions'][start:end], label='Pressure Predictions')\n",
    "    plt.plot(df['Pressure Actuals'][start:end], label='Pressure Actuals')\n",
    "    \n",
    "    # Returning the DataFrame for further analysis if needed\n",
    "    return df[start:end]"
   ]
  },
  {
   "cell_type": "code",
   "execution_count": 48,
   "metadata": {
    "colab": {
     "base_uri": "https://localhost:8080/",
     "height": 668
    },
    "id": "WdYOQkIN1gAK",
    "outputId": "fd51ff85-2f41-4ca2-ed7c-583bc1a318f7"
   },
   "outputs": [
    {
     "name": "stdout",
     "output_type": "stream",
     "text": [
      "159/159 [==============================] - 1s 3ms/step\n"
     ]
    },
    {
     "data": {
      "text/html": [
       "<div>\n",
       "<style scoped>\n",
       "    .dataframe tbody tr th:only-of-type {\n",
       "        vertical-align: middle;\n",
       "    }\n",
       "\n",
       "    .dataframe tbody tr th {\n",
       "        vertical-align: top;\n",
       "    }\n",
       "\n",
       "    .dataframe thead th {\n",
       "        text-align: right;\n",
       "    }\n",
       "</style>\n",
       "<table border=\"1\" class=\"dataframe\">\n",
       "  <thead>\n",
       "    <tr style=\"text-align: right;\">\n",
       "      <th></th>\n",
       "      <th>Temperature Predictions</th>\n",
       "      <th>Temperature Actuals</th>\n",
       "      <th>Pressure Predictions</th>\n",
       "      <th>Pressure Actuals</th>\n",
       "    </tr>\n",
       "  </thead>\n",
       "  <tbody>\n",
       "    <tr>\n",
       "      <th>0</th>\n",
       "      <td>12.780807</td>\n",
       "      <td>12.93</td>\n",
       "      <td>982.617737</td>\n",
       "      <td>982.43</td>\n",
       "    </tr>\n",
       "    <tr>\n",
       "      <th>1</th>\n",
       "      <td>12.413517</td>\n",
       "      <td>12.43</td>\n",
       "      <td>982.697388</td>\n",
       "      <td>982.68</td>\n",
       "    </tr>\n",
       "    <tr>\n",
       "      <th>2</th>\n",
       "      <td>12.103453</td>\n",
       "      <td>12.17</td>\n",
       "      <td>982.973877</td>\n",
       "      <td>983.02</td>\n",
       "    </tr>\n",
       "    <tr>\n",
       "      <th>3</th>\n",
       "      <td>12.141128</td>\n",
       "      <td>11.55</td>\n",
       "      <td>983.404297</td>\n",
       "      <td>983.59</td>\n",
       "    </tr>\n",
       "    <tr>\n",
       "      <th>4</th>\n",
       "      <td>11.791883</td>\n",
       "      <td>11.59</td>\n",
       "      <td>984.128845</td>\n",
       "      <td>983.59</td>\n",
       "    </tr>\n",
       "    <tr>\n",
       "      <th>...</th>\n",
       "      <td>...</td>\n",
       "      <td>...</td>\n",
       "      <td>...</td>\n",
       "      <td>...</td>\n",
       "    </tr>\n",
       "    <tr>\n",
       "      <th>95</th>\n",
       "      <td>15.250717</td>\n",
       "      <td>15.52</td>\n",
       "      <td>985.692078</td>\n",
       "      <td>985.54</td>\n",
       "    </tr>\n",
       "    <tr>\n",
       "      <th>96</th>\n",
       "      <td>14.941254</td>\n",
       "      <td>15.27</td>\n",
       "      <td>985.653259</td>\n",
       "      <td>985.68</td>\n",
       "    </tr>\n",
       "    <tr>\n",
       "      <th>97</th>\n",
       "      <td>14.832370</td>\n",
       "      <td>15.07</td>\n",
       "      <td>985.769531</td>\n",
       "      <td>985.68</td>\n",
       "    </tr>\n",
       "    <tr>\n",
       "      <th>98</th>\n",
       "      <td>14.857349</td>\n",
       "      <td>14.88</td>\n",
       "      <td>985.836548</td>\n",
       "      <td>985.67</td>\n",
       "    </tr>\n",
       "    <tr>\n",
       "      <th>99</th>\n",
       "      <td>14.963855</td>\n",
       "      <td>14.98</td>\n",
       "      <td>985.908997</td>\n",
       "      <td>985.93</td>\n",
       "    </tr>\n",
       "  </tbody>\n",
       "</table>\n",
       "<p>100 rows × 4 columns</p>\n",
       "</div>"
      ],
      "text/plain": [
       "    Temperature Predictions  Temperature Actuals  Pressure Predictions  \\\n",
       "0                 12.780807                12.93            982.617737   \n",
       "1                 12.413517                12.43            982.697388   \n",
       "2                 12.103453                12.17            982.973877   \n",
       "3                 12.141128                11.55            983.404297   \n",
       "4                 11.791883                11.59            984.128845   \n",
       "..                      ...                  ...                   ...   \n",
       "95                15.250717                15.52            985.692078   \n",
       "96                14.941254                15.27            985.653259   \n",
       "97                14.832370                15.07            985.769531   \n",
       "98                14.857349                14.88            985.836548   \n",
       "99                14.963855                14.98            985.908997   \n",
       "\n",
       "    Pressure Actuals  \n",
       "0             982.43  \n",
       "1             982.68  \n",
       "2             983.02  \n",
       "3             983.59  \n",
       "4             983.59  \n",
       "..               ...  \n",
       "95            985.54  \n",
       "96            985.68  \n",
       "97            985.68  \n",
       "98            985.67  \n",
       "99            985.93  \n",
       "\n",
       "[100 rows x 4 columns]"
      ]
     },
     "execution_count": 48,
     "metadata": {},
     "output_type": "execute_result"
    },
    {
     "data": {
      "image/png": "[encoded data removed]",
      "text/plain": [
       "<Figure size 432x288 with 1 Axes>"
      ]
     },
     "metadata": {
      "needs_background": "light"
     },
     "output_type": "display_data"
    }
   ],
   "source": [
    "# Running the plot_predictions2 function with model3, X3_test, and y3_test\n",
    "post_processed_df = plot_predictions2(model3, X3_test, y3_test)\n",
    "\n",
    "# Displaying the resulting DataFrame showing post-processed temperature and pressure predictions along with actual values\n",
    "post_processed_df"
   ]
  },
  {
   "cell_type": "code",
   "execution_count": 49,
   "metadata": {
    "colab": {
     "base_uri": "https://localhost:8080/",
     "height": 282
    },
    "id": "9m_fSfOq1ohj",
    "outputId": "7e6d97f7-49fd-4996-8c18-54cffff1d65d"
   },
   "outputs": [
    {
     "data": {
      "text/plain": [
       "[<matplotlib.lines.Line2D at 0x23f5e00ccd0>]"
      ]
     },
     "execution_count": 49,
     "metadata": {},
     "output_type": "execute_result"
    },
    {
     "data": {
      "image/png": "[encoded data removed]",
      "text/plain": [
       "<Figure size 432x288 with 1 Axes>"
      ]
     },
     "metadata": {
      "needs_background": "light"
     },
     "output_type": "display_data"
    }
   ],
   "source": [
    "# Setting the start and end indices for the subset of data to be visualized\n",
    "start, end = 0, 100\n",
    "\n",
    "# Plotting the subset of Temperature Predictions and Actuals from the post_processed_df DataFrame\n",
    "plt.plot(post_processed_df['Temperature Predictions'][start:end], label='Temperature Predictions')\n",
    "plt.plot(post_processed_df['Temperature Actuals'][start:end], label='Temperature Actuals')"
   ]
  },
  {
   "cell_type": "code",
   "execution_count": 50,
   "metadata": {
    "colab": {
     "base_uri": "https://localhost:8080/",
     "height": 282
    },
    "id": "ORffwf-e125j",
    "outputId": "91467aa7-ff80-498a-b713-98e3762a988d"
   },
   "outputs": [
    {
     "data": {
      "text/plain": [
       "[<matplotlib.lines.Line2D at 0x23f6dd50b20>]"
      ]
     },
     "execution_count": 50,
     "metadata": {},
     "output_type": "execute_result"
    },
    {
     "data": {
      "image/png": "[encoded data removed]",
      "text/plain": [
       "<Figure size 432x288 with 1 Axes>"
      ]
     },
     "metadata": {
      "needs_background": "light"
     },
     "output_type": "display_data"
    }
   ],
   "source": [
    "# Plotting the subset of Pressure Predictions and Actuals from the post_processed_df DataFrame\n",
    "plt.plot(post_processed_df['Pressure Predictions'][start:end])\n",
    "plt.plot(post_processed_df['Pressure Actuals'][start:end])"
   ]
  },
  {
   "cell_type": "code",
   "execution_count": null,
   "metadata": {
    "id": "JR5u_hlcZ3Nk"
   },
   "outputs": [],
   "source": []
  },
  {
   "cell_type": "code",
   "execution_count": null,
   "metadata": {
    "id": "gy1BqMPAZ3Nl"
   },
   "outputs": [],
   "source": []
  }
 ],
 "metadata": {
  "colab": {
   "collapsed_sections": [],
   "name": "Univariate and mutivariate_Time_Series_Forecasting using tensorflow and keras.ipynb",
   "provenance": []
  },
  "kernelspec": {
   "display_name": "Python 3 (ipykernel)",
   "language": "python",
   "name": "python3"
  },
  "language_info": {
   "codemirror_mode": {
    "name": "ipython",
    "version": 3
   },
   "file_extension": ".py",
   "mimetype": "text/x-python",
   "name": "python",
   "nbconvert_exporter": "python",
   "pygments_lexer": "ipython3",
   "version": "3.9.12"
  }
 },
 "nbformat": 4,
 "nbformat_minor": 1
}
